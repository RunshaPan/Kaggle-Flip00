{
 "cells": [
  {
   "cell_type": "markdown",
   "metadata": {},
   "source": [
    "# 1.数据导入查看与初步处理"
   ]
  },
  {
   "cell_type": "code",
   "execution_count": 1,
   "metadata": {},
   "outputs": [],
   "source": [
    "import numpy as np\n",
    "import pandas as pd\n",
    "import matplotlib.pyplot as plt\n"
   ]
  },
  {
   "cell_type": "markdown",
   "metadata": {},
   "source": [
    "## 1.1导入数据"
   ]
  },
  {
   "cell_type": "code",
   "execution_count": 2,
   "metadata": {},
   "outputs": [],
   "source": [
    "train = pd.read_csv(\"Data/train.csv\", nrows=2000000) \n",
    "\n",
    "test = pd.read_csv(\"Data/test.csv\") "
   ]
  },
  {
   "cell_type": "markdown",
   "metadata": {},
   "source": [
    "## 1.2查看数据"
   ]
  },
  {
   "cell_type": "code",
   "execution_count": 177,
   "metadata": {},
   "outputs": [
    {
     "name": "stdout",
     "output_type": "stream",
     "text": [
      "(2000000, 8)\n",
      "(9914, 7)\n"
     ]
    }
   ],
   "source": [
    "print(train.shape)\n",
    "print(test.shape)"
   ]
  },
  {
   "cell_type": "code",
   "execution_count": 178,
   "metadata": {},
   "outputs": [
    {
     "data": {
      "text/html": [
       "<div>\n",
       "<style scoped>\n",
       "    .dataframe tbody tr th:only-of-type {\n",
       "        vertical-align: middle;\n",
       "    }\n",
       "\n",
       "    .dataframe tbody tr th {\n",
       "        vertical-align: top;\n",
       "    }\n",
       "\n",
       "    .dataframe thead th {\n",
       "        text-align: right;\n",
       "    }\n",
       "</style>\n",
       "<table border=\"1\" class=\"dataframe\">\n",
       "  <thead>\n",
       "    <tr style=\"text-align: right;\">\n",
       "      <th></th>\n",
       "      <th>key</th>\n",
       "      <th>fare_amount</th>\n",
       "      <th>pickup_datetime</th>\n",
       "      <th>pickup_longitude</th>\n",
       "      <th>pickup_latitude</th>\n",
       "      <th>dropoff_longitude</th>\n",
       "      <th>dropoff_latitude</th>\n",
       "      <th>passenger_count</th>\n",
       "    </tr>\n",
       "  </thead>\n",
       "  <tbody>\n",
       "    <tr>\n",
       "      <td>0</td>\n",
       "      <td>2009-06-15 17:26:21.0000001</td>\n",
       "      <td>4.5</td>\n",
       "      <td>2009-06-15 17:26:21 UTC</td>\n",
       "      <td>-73.844311</td>\n",
       "      <td>40.721319</td>\n",
       "      <td>-73.841610</td>\n",
       "      <td>40.712278</td>\n",
       "      <td>1</td>\n",
       "    </tr>\n",
       "    <tr>\n",
       "      <td>1</td>\n",
       "      <td>2010-01-05 16:52:16.0000002</td>\n",
       "      <td>16.9</td>\n",
       "      <td>2010-01-05 16:52:16 UTC</td>\n",
       "      <td>-74.016048</td>\n",
       "      <td>40.711303</td>\n",
       "      <td>-73.979268</td>\n",
       "      <td>40.782004</td>\n",
       "      <td>1</td>\n",
       "    </tr>\n",
       "    <tr>\n",
       "      <td>2</td>\n",
       "      <td>2011-08-18 00:35:00.00000049</td>\n",
       "      <td>5.7</td>\n",
       "      <td>2011-08-18 00:35:00 UTC</td>\n",
       "      <td>-73.982738</td>\n",
       "      <td>40.761270</td>\n",
       "      <td>-73.991242</td>\n",
       "      <td>40.750562</td>\n",
       "      <td>2</td>\n",
       "    </tr>\n",
       "    <tr>\n",
       "      <td>3</td>\n",
       "      <td>2012-04-21 04:30:42.0000001</td>\n",
       "      <td>7.7</td>\n",
       "      <td>2012-04-21 04:30:42 UTC</td>\n",
       "      <td>-73.987130</td>\n",
       "      <td>40.733143</td>\n",
       "      <td>-73.991567</td>\n",
       "      <td>40.758092</td>\n",
       "      <td>1</td>\n",
       "    </tr>\n",
       "    <tr>\n",
       "      <td>4</td>\n",
       "      <td>2010-03-09 07:51:00.000000135</td>\n",
       "      <td>5.3</td>\n",
       "      <td>2010-03-09 07:51:00 UTC</td>\n",
       "      <td>-73.968095</td>\n",
       "      <td>40.768008</td>\n",
       "      <td>-73.956655</td>\n",
       "      <td>40.783762</td>\n",
       "      <td>1</td>\n",
       "    </tr>\n",
       "  </tbody>\n",
       "</table>\n",
       "</div>"
      ],
      "text/plain": [
       "                             key  fare_amount          pickup_datetime  \\\n",
       "0    2009-06-15 17:26:21.0000001          4.5  2009-06-15 17:26:21 UTC   \n",
       "1    2010-01-05 16:52:16.0000002         16.9  2010-01-05 16:52:16 UTC   \n",
       "2   2011-08-18 00:35:00.00000049          5.7  2011-08-18 00:35:00 UTC   \n",
       "3    2012-04-21 04:30:42.0000001          7.7  2012-04-21 04:30:42 UTC   \n",
       "4  2010-03-09 07:51:00.000000135          5.3  2010-03-09 07:51:00 UTC   \n",
       "\n",
       "   pickup_longitude  pickup_latitude  dropoff_longitude  dropoff_latitude  \\\n",
       "0        -73.844311        40.721319         -73.841610         40.712278   \n",
       "1        -74.016048        40.711303         -73.979268         40.782004   \n",
       "2        -73.982738        40.761270         -73.991242         40.750562   \n",
       "3        -73.987130        40.733143         -73.991567         40.758092   \n",
       "4        -73.968095        40.768008         -73.956655         40.783762   \n",
       "\n",
       "   passenger_count  \n",
       "0                1  \n",
       "1                1  \n",
       "2                2  \n",
       "3                1  \n",
       "4                1  "
      ]
     },
     "execution_count": 178,
     "metadata": {},
     "output_type": "execute_result"
    }
   ],
   "source": [
    "train.head()"
   ]
  },
  {
   "cell_type": "code",
   "execution_count": 179,
   "metadata": {},
   "outputs": [
    {
     "name": "stdout",
     "output_type": "stream",
     "text": [
      "<class 'pandas.core.frame.DataFrame'>\n",
      "RangeIndex: 2000000 entries, 0 to 1999999\n",
      "Data columns (total 8 columns):\n",
      "key                  object\n",
      "fare_amount          float64\n",
      "pickup_datetime      object\n",
      "pickup_longitude     float64\n",
      "pickup_latitude      float64\n",
      "dropoff_longitude    float64\n",
      "dropoff_latitude     float64\n",
      "passenger_count      int64\n",
      "dtypes: float64(5), int64(1), object(2)\n",
      "memory usage: 122.1+ MB\n"
     ]
    }
   ],
   "source": [
    "train.info()"
   ]
  },
  {
   "cell_type": "code",
   "execution_count": 180,
   "metadata": {},
   "outputs": [
    {
     "data": {
      "text/html": [
       "<div>\n",
       "<style scoped>\n",
       "    .dataframe tbody tr th:only-of-type {\n",
       "        vertical-align: middle;\n",
       "    }\n",
       "\n",
       "    .dataframe tbody tr th {\n",
       "        vertical-align: top;\n",
       "    }\n",
       "\n",
       "    .dataframe thead th {\n",
       "        text-align: right;\n",
       "    }\n",
       "</style>\n",
       "<table border=\"1\" class=\"dataframe\">\n",
       "  <thead>\n",
       "    <tr style=\"text-align: right;\">\n",
       "      <th></th>\n",
       "      <th>key</th>\n",
       "      <th>pickup_datetime</th>\n",
       "      <th>pickup_longitude</th>\n",
       "      <th>pickup_latitude</th>\n",
       "      <th>dropoff_longitude</th>\n",
       "      <th>dropoff_latitude</th>\n",
       "      <th>passenger_count</th>\n",
       "    </tr>\n",
       "  </thead>\n",
       "  <tbody>\n",
       "    <tr>\n",
       "      <td>0</td>\n",
       "      <td>2015-01-27 13:08:24.0000002</td>\n",
       "      <td>2015-01-27 13:08:24 UTC</td>\n",
       "      <td>-73.973320</td>\n",
       "      <td>40.763805</td>\n",
       "      <td>-73.981430</td>\n",
       "      <td>40.743835</td>\n",
       "      <td>1</td>\n",
       "    </tr>\n",
       "    <tr>\n",
       "      <td>1</td>\n",
       "      <td>2015-01-27 13:08:24.0000003</td>\n",
       "      <td>2015-01-27 13:08:24 UTC</td>\n",
       "      <td>-73.986862</td>\n",
       "      <td>40.719383</td>\n",
       "      <td>-73.998886</td>\n",
       "      <td>40.739201</td>\n",
       "      <td>1</td>\n",
       "    </tr>\n",
       "    <tr>\n",
       "      <td>2</td>\n",
       "      <td>2011-10-08 11:53:44.0000002</td>\n",
       "      <td>2011-10-08 11:53:44 UTC</td>\n",
       "      <td>-73.982524</td>\n",
       "      <td>40.751260</td>\n",
       "      <td>-73.979654</td>\n",
       "      <td>40.746139</td>\n",
       "      <td>1</td>\n",
       "    </tr>\n",
       "    <tr>\n",
       "      <td>3</td>\n",
       "      <td>2012-12-01 21:12:12.0000002</td>\n",
       "      <td>2012-12-01 21:12:12 UTC</td>\n",
       "      <td>-73.981160</td>\n",
       "      <td>40.767807</td>\n",
       "      <td>-73.990448</td>\n",
       "      <td>40.751635</td>\n",
       "      <td>1</td>\n",
       "    </tr>\n",
       "    <tr>\n",
       "      <td>4</td>\n",
       "      <td>2012-12-01 21:12:12.0000003</td>\n",
       "      <td>2012-12-01 21:12:12 UTC</td>\n",
       "      <td>-73.966046</td>\n",
       "      <td>40.789775</td>\n",
       "      <td>-73.988565</td>\n",
       "      <td>40.744427</td>\n",
       "      <td>1</td>\n",
       "    </tr>\n",
       "  </tbody>\n",
       "</table>\n",
       "</div>"
      ],
      "text/plain": [
       "                           key          pickup_datetime  pickup_longitude  \\\n",
       "0  2015-01-27 13:08:24.0000002  2015-01-27 13:08:24 UTC        -73.973320   \n",
       "1  2015-01-27 13:08:24.0000003  2015-01-27 13:08:24 UTC        -73.986862   \n",
       "2  2011-10-08 11:53:44.0000002  2011-10-08 11:53:44 UTC        -73.982524   \n",
       "3  2012-12-01 21:12:12.0000002  2012-12-01 21:12:12 UTC        -73.981160   \n",
       "4  2012-12-01 21:12:12.0000003  2012-12-01 21:12:12 UTC        -73.966046   \n",
       "\n",
       "   pickup_latitude  dropoff_longitude  dropoff_latitude  passenger_count  \n",
       "0        40.763805         -73.981430         40.743835                1  \n",
       "1        40.719383         -73.998886         40.739201                1  \n",
       "2        40.751260         -73.979654         40.746139                1  \n",
       "3        40.767807         -73.990448         40.751635                1  \n",
       "4        40.789775         -73.988565         40.744427                1  "
      ]
     },
     "execution_count": 180,
     "metadata": {},
     "output_type": "execute_result"
    }
   ],
   "source": [
    "test.head()"
   ]
  },
  {
   "cell_type": "code",
   "execution_count": 181,
   "metadata": {
    "scrolled": true
   },
   "outputs": [
    {
     "name": "stdout",
     "output_type": "stream",
     "text": [
      "<class 'pandas.core.frame.DataFrame'>\n",
      "RangeIndex: 9914 entries, 0 to 9913\n",
      "Data columns (total 7 columns):\n",
      "key                  9914 non-null object\n",
      "pickup_datetime      9914 non-null object\n",
      "pickup_longitude     9914 non-null float64\n",
      "pickup_latitude      9914 non-null float64\n",
      "dropoff_longitude    9914 non-null float64\n",
      "dropoff_latitude     9914 non-null float64\n",
      "passenger_count      9914 non-null int64\n",
      "dtypes: float64(4), int64(1), object(2)\n",
      "memory usage: 542.3+ KB\n"
     ]
    }
   ],
   "source": [
    "test.info()"
   ]
  },
  {
   "cell_type": "markdown",
   "metadata": {},
   "source": [
    "## 1.3数据集描述"
   ]
  },
  {
   "cell_type": "code",
   "execution_count": 182,
   "metadata": {
    "scrolled": true
   },
   "outputs": [
    {
     "data": {
      "text/html": [
       "<div>\n",
       "<style scoped>\n",
       "    .dataframe tbody tr th:only-of-type {\n",
       "        vertical-align: middle;\n",
       "    }\n",
       "\n",
       "    .dataframe tbody tr th {\n",
       "        vertical-align: top;\n",
       "    }\n",
       "\n",
       "    .dataframe thead th {\n",
       "        text-align: right;\n",
       "    }\n",
       "</style>\n",
       "<table border=\"1\" class=\"dataframe\">\n",
       "  <thead>\n",
       "    <tr style=\"text-align: right;\">\n",
       "      <th></th>\n",
       "      <th>fare_amount</th>\n",
       "      <th>pickup_longitude</th>\n",
       "      <th>pickup_latitude</th>\n",
       "      <th>dropoff_longitude</th>\n",
       "      <th>dropoff_latitude</th>\n",
       "      <th>passenger_count</th>\n",
       "    </tr>\n",
       "  </thead>\n",
       "  <tbody>\n",
       "    <tr>\n",
       "      <td>count</td>\n",
       "      <td>2.000000e+06</td>\n",
       "      <td>2.000000e+06</td>\n",
       "      <td>2.000000e+06</td>\n",
       "      <td>1.999986e+06</td>\n",
       "      <td>1.999986e+06</td>\n",
       "      <td>2.000000e+06</td>\n",
       "    </tr>\n",
       "    <tr>\n",
       "      <td>mean</td>\n",
       "      <td>1.134779e+01</td>\n",
       "      <td>-7.252321e+01</td>\n",
       "      <td>3.992963e+01</td>\n",
       "      <td>-7.252395e+01</td>\n",
       "      <td>3.992808e+01</td>\n",
       "      <td>1.684113e+00</td>\n",
       "    </tr>\n",
       "    <tr>\n",
       "      <td>std</td>\n",
       "      <td>9.852883e+00</td>\n",
       "      <td>1.286804e+01</td>\n",
       "      <td>7.983352e+00</td>\n",
       "      <td>1.277497e+01</td>\n",
       "      <td>1.032382e+01</td>\n",
       "      <td>1.314982e+00</td>\n",
       "    </tr>\n",
       "    <tr>\n",
       "      <td>min</td>\n",
       "      <td>-6.200000e+01</td>\n",
       "      <td>-3.377681e+03</td>\n",
       "      <td>-3.458665e+03</td>\n",
       "      <td>-3.383297e+03</td>\n",
       "      <td>-3.461541e+03</td>\n",
       "      <td>0.000000e+00</td>\n",
       "    </tr>\n",
       "    <tr>\n",
       "      <td>25%</td>\n",
       "      <td>6.000000e+00</td>\n",
       "      <td>-7.399208e+01</td>\n",
       "      <td>4.073491e+01</td>\n",
       "      <td>-7.399141e+01</td>\n",
       "      <td>4.073400e+01</td>\n",
       "      <td>1.000000e+00</td>\n",
       "    </tr>\n",
       "    <tr>\n",
       "      <td>50%</td>\n",
       "      <td>8.500000e+00</td>\n",
       "      <td>-7.398181e+01</td>\n",
       "      <td>4.075263e+01</td>\n",
       "      <td>-7.398016e+01</td>\n",
       "      <td>4.075312e+01</td>\n",
       "      <td>1.000000e+00</td>\n",
       "    </tr>\n",
       "    <tr>\n",
       "      <td>75%</td>\n",
       "      <td>1.250000e+01</td>\n",
       "      <td>-7.396713e+01</td>\n",
       "      <td>4.076710e+01</td>\n",
       "      <td>-7.396369e+01</td>\n",
       "      <td>4.076809e+01</td>\n",
       "      <td>2.000000e+00</td>\n",
       "    </tr>\n",
       "    <tr>\n",
       "      <td>max</td>\n",
       "      <td>1.273310e+03</td>\n",
       "      <td>2.856442e+03</td>\n",
       "      <td>2.621628e+03</td>\n",
       "      <td>3.414307e+03</td>\n",
       "      <td>3.345917e+03</td>\n",
       "      <td>2.080000e+02</td>\n",
       "    </tr>\n",
       "  </tbody>\n",
       "</table>\n",
       "</div>"
      ],
      "text/plain": [
       "        fare_amount  pickup_longitude  pickup_latitude  dropoff_longitude  \\\n",
       "count  2.000000e+06      2.000000e+06     2.000000e+06       1.999986e+06   \n",
       "mean   1.134779e+01     -7.252321e+01     3.992963e+01      -7.252395e+01   \n",
       "std    9.852883e+00      1.286804e+01     7.983352e+00       1.277497e+01   \n",
       "min   -6.200000e+01     -3.377681e+03    -3.458665e+03      -3.383297e+03   \n",
       "25%    6.000000e+00     -7.399208e+01     4.073491e+01      -7.399141e+01   \n",
       "50%    8.500000e+00     -7.398181e+01     4.075263e+01      -7.398016e+01   \n",
       "75%    1.250000e+01     -7.396713e+01     4.076710e+01      -7.396369e+01   \n",
       "max    1.273310e+03      2.856442e+03     2.621628e+03       3.414307e+03   \n",
       "\n",
       "       dropoff_latitude  passenger_count  \n",
       "count      1.999986e+06     2.000000e+06  \n",
       "mean       3.992808e+01     1.684113e+00  \n",
       "std        1.032382e+01     1.314982e+00  \n",
       "min       -3.461541e+03     0.000000e+00  \n",
       "25%        4.073400e+01     1.000000e+00  \n",
       "50%        4.075312e+01     1.000000e+00  \n",
       "75%        4.076809e+01     2.000000e+00  \n",
       "max        3.345917e+03     2.080000e+02  "
      ]
     },
     "execution_count": 182,
     "metadata": {},
     "output_type": "execute_result"
    }
   ],
   "source": [
    "train.describe()"
   ]
  },
  {
   "cell_type": "code",
   "execution_count": 183,
   "metadata": {},
   "outputs": [
    {
     "data": {
      "text/html": [
       "<div>\n",
       "<style scoped>\n",
       "    .dataframe tbody tr th:only-of-type {\n",
       "        vertical-align: middle;\n",
       "    }\n",
       "\n",
       "    .dataframe tbody tr th {\n",
       "        vertical-align: top;\n",
       "    }\n",
       "\n",
       "    .dataframe thead th {\n",
       "        text-align: right;\n",
       "    }\n",
       "</style>\n",
       "<table border=\"1\" class=\"dataframe\">\n",
       "  <thead>\n",
       "    <tr style=\"text-align: right;\">\n",
       "      <th></th>\n",
       "      <th>pickup_longitude</th>\n",
       "      <th>pickup_latitude</th>\n",
       "      <th>dropoff_longitude</th>\n",
       "      <th>dropoff_latitude</th>\n",
       "      <th>passenger_count</th>\n",
       "    </tr>\n",
       "  </thead>\n",
       "  <tbody>\n",
       "    <tr>\n",
       "      <td>count</td>\n",
       "      <td>9914.000000</td>\n",
       "      <td>9914.000000</td>\n",
       "      <td>9914.000000</td>\n",
       "      <td>9914.000000</td>\n",
       "      <td>9914.000000</td>\n",
       "    </tr>\n",
       "    <tr>\n",
       "      <td>mean</td>\n",
       "      <td>-73.974722</td>\n",
       "      <td>40.751041</td>\n",
       "      <td>-73.973657</td>\n",
       "      <td>40.751743</td>\n",
       "      <td>1.671273</td>\n",
       "    </tr>\n",
       "    <tr>\n",
       "      <td>std</td>\n",
       "      <td>0.042774</td>\n",
       "      <td>0.033541</td>\n",
       "      <td>0.039072</td>\n",
       "      <td>0.035435</td>\n",
       "      <td>1.278747</td>\n",
       "    </tr>\n",
       "    <tr>\n",
       "      <td>min</td>\n",
       "      <td>-74.252193</td>\n",
       "      <td>40.573143</td>\n",
       "      <td>-74.263242</td>\n",
       "      <td>40.568973</td>\n",
       "      <td>1.000000</td>\n",
       "    </tr>\n",
       "    <tr>\n",
       "      <td>25%</td>\n",
       "      <td>-73.992501</td>\n",
       "      <td>40.736125</td>\n",
       "      <td>-73.991247</td>\n",
       "      <td>40.735254</td>\n",
       "      <td>1.000000</td>\n",
       "    </tr>\n",
       "    <tr>\n",
       "      <td>50%</td>\n",
       "      <td>-73.982326</td>\n",
       "      <td>40.753051</td>\n",
       "      <td>-73.980015</td>\n",
       "      <td>40.754065</td>\n",
       "      <td>1.000000</td>\n",
       "    </tr>\n",
       "    <tr>\n",
       "      <td>75%</td>\n",
       "      <td>-73.968013</td>\n",
       "      <td>40.767113</td>\n",
       "      <td>-73.964059</td>\n",
       "      <td>40.768757</td>\n",
       "      <td>2.000000</td>\n",
       "    </tr>\n",
       "    <tr>\n",
       "      <td>max</td>\n",
       "      <td>-72.986532</td>\n",
       "      <td>41.709555</td>\n",
       "      <td>-72.990963</td>\n",
       "      <td>41.696683</td>\n",
       "      <td>6.000000</td>\n",
       "    </tr>\n",
       "  </tbody>\n",
       "</table>\n",
       "</div>"
      ],
      "text/plain": [
       "       pickup_longitude  pickup_latitude  dropoff_longitude  dropoff_latitude  \\\n",
       "count       9914.000000      9914.000000        9914.000000       9914.000000   \n",
       "mean         -73.974722        40.751041         -73.973657         40.751743   \n",
       "std            0.042774         0.033541           0.039072          0.035435   \n",
       "min          -74.252193        40.573143         -74.263242         40.568973   \n",
       "25%          -73.992501        40.736125         -73.991247         40.735254   \n",
       "50%          -73.982326        40.753051         -73.980015         40.754065   \n",
       "75%          -73.968013        40.767113         -73.964059         40.768757   \n",
       "max          -72.986532        41.709555         -72.990963         41.696683   \n",
       "\n",
       "       passenger_count  \n",
       "count      9914.000000  \n",
       "mean          1.671273  \n",
       "std           1.278747  \n",
       "min           1.000000  \n",
       "25%           1.000000  \n",
       "50%           1.000000  \n",
       "75%           2.000000  \n",
       "max           6.000000  "
      ]
     },
     "execution_count": 183,
     "metadata": {},
     "output_type": "execute_result"
    }
   ],
   "source": [
    "test.describe()"
   ]
  },
  {
   "cell_type": "markdown",
   "metadata": {},
   "source": [
    "## 1.4初步处理"
   ]
  },
  {
   "cell_type": "code",
   "execution_count": 184,
   "metadata": {},
   "outputs": [],
   "source": [
    "for dataset in [train, test]:#处理数据类型\n",
    "    dataset['key'] = pd.to_datetime(dataset['key']) \n",
    "    dataset['pickup_datetime'] = pd.to_datetime(dataset['pickup_datetime'])"
   ]
  },
  {
   "cell_type": "code",
   "execution_count": 185,
   "metadata": {
    "scrolled": true
   },
   "outputs": [],
   "source": [
    "for dataset in [train, test]:\n",
    "    dataset['year'] = dataset['pickup_datetime'].dt.year\n",
    "    dataset['month'] = dataset['pickup_datetime'].dt.month\n",
    "    dataset['day'] = dataset['pickup_datetime'].dt.day\n",
    "    dataset['weekday'] = dataset['pickup_datetime'].dt.weekday\n",
    "    dataset['hour'] = dataset['pickup_datetime'].dt.hour"
   ]
  },
  {
   "cell_type": "code",
   "execution_count": 187,
   "metadata": {},
   "outputs": [
    {
     "name": "stdout",
     "output_type": "stream",
     "text": [
      "(2000000, 13)\n",
      "(9914, 12)\n"
     ]
    }
   ],
   "source": [
    "print(train.shape)\n",
    "print(test.shape)"
   ]
  },
  {
   "cell_type": "code",
   "execution_count": 188,
   "metadata": {
    "scrolled": true
   },
   "outputs": [
    {
     "data": {
      "text/html": [
       "<div>\n",
       "<style scoped>\n",
       "    .dataframe tbody tr th:only-of-type {\n",
       "        vertical-align: middle;\n",
       "    }\n",
       "\n",
       "    .dataframe tbody tr th {\n",
       "        vertical-align: top;\n",
       "    }\n",
       "\n",
       "    .dataframe thead th {\n",
       "        text-align: right;\n",
       "    }\n",
       "</style>\n",
       "<table border=\"1\" class=\"dataframe\">\n",
       "  <thead>\n",
       "    <tr style=\"text-align: right;\">\n",
       "      <th></th>\n",
       "      <th>key</th>\n",
       "      <th>fare_amount</th>\n",
       "      <th>pickup_datetime</th>\n",
       "      <th>pickup_longitude</th>\n",
       "      <th>pickup_latitude</th>\n",
       "      <th>dropoff_longitude</th>\n",
       "      <th>dropoff_latitude</th>\n",
       "      <th>passenger_count</th>\n",
       "      <th>year</th>\n",
       "      <th>month</th>\n",
       "      <th>day</th>\n",
       "      <th>weekday</th>\n",
       "      <th>hour</th>\n",
       "    </tr>\n",
       "  </thead>\n",
       "  <tbody>\n",
       "    <tr>\n",
       "      <td>0</td>\n",
       "      <td>2009-06-15 17:26:21.000000100</td>\n",
       "      <td>4.5</td>\n",
       "      <td>2009-06-15 17:26:21+00:00</td>\n",
       "      <td>-73.844311</td>\n",
       "      <td>40.721319</td>\n",
       "      <td>-73.841610</td>\n",
       "      <td>40.712278</td>\n",
       "      <td>1</td>\n",
       "      <td>2009</td>\n",
       "      <td>6</td>\n",
       "      <td>15</td>\n",
       "      <td>0</td>\n",
       "      <td>17</td>\n",
       "    </tr>\n",
       "    <tr>\n",
       "      <td>1</td>\n",
       "      <td>2010-01-05 16:52:16.000000200</td>\n",
       "      <td>16.9</td>\n",
       "      <td>2010-01-05 16:52:16+00:00</td>\n",
       "      <td>-74.016048</td>\n",
       "      <td>40.711303</td>\n",
       "      <td>-73.979268</td>\n",
       "      <td>40.782004</td>\n",
       "      <td>1</td>\n",
       "      <td>2010</td>\n",
       "      <td>1</td>\n",
       "      <td>5</td>\n",
       "      <td>1</td>\n",
       "      <td>16</td>\n",
       "    </tr>\n",
       "    <tr>\n",
       "      <td>2</td>\n",
       "      <td>2011-08-18 00:35:00.000000490</td>\n",
       "      <td>5.7</td>\n",
       "      <td>2011-08-18 00:35:00+00:00</td>\n",
       "      <td>-73.982738</td>\n",
       "      <td>40.761270</td>\n",
       "      <td>-73.991242</td>\n",
       "      <td>40.750562</td>\n",
       "      <td>2</td>\n",
       "      <td>2011</td>\n",
       "      <td>8</td>\n",
       "      <td>18</td>\n",
       "      <td>3</td>\n",
       "      <td>0</td>\n",
       "    </tr>\n",
       "    <tr>\n",
       "      <td>3</td>\n",
       "      <td>2012-04-21 04:30:42.000000100</td>\n",
       "      <td>7.7</td>\n",
       "      <td>2012-04-21 04:30:42+00:00</td>\n",
       "      <td>-73.987130</td>\n",
       "      <td>40.733143</td>\n",
       "      <td>-73.991567</td>\n",
       "      <td>40.758092</td>\n",
       "      <td>1</td>\n",
       "      <td>2012</td>\n",
       "      <td>4</td>\n",
       "      <td>21</td>\n",
       "      <td>5</td>\n",
       "      <td>4</td>\n",
       "    </tr>\n",
       "    <tr>\n",
       "      <td>4</td>\n",
       "      <td>2010-03-09 07:51:00.000000135</td>\n",
       "      <td>5.3</td>\n",
       "      <td>2010-03-09 07:51:00+00:00</td>\n",
       "      <td>-73.968095</td>\n",
       "      <td>40.768008</td>\n",
       "      <td>-73.956655</td>\n",
       "      <td>40.783762</td>\n",
       "      <td>1</td>\n",
       "      <td>2010</td>\n",
       "      <td>3</td>\n",
       "      <td>9</td>\n",
       "      <td>1</td>\n",
       "      <td>7</td>\n",
       "    </tr>\n",
       "  </tbody>\n",
       "</table>\n",
       "</div>"
      ],
      "text/plain": [
       "                            key  fare_amount           pickup_datetime  \\\n",
       "0 2009-06-15 17:26:21.000000100          4.5 2009-06-15 17:26:21+00:00   \n",
       "1 2010-01-05 16:52:16.000000200         16.9 2010-01-05 16:52:16+00:00   \n",
       "2 2011-08-18 00:35:00.000000490          5.7 2011-08-18 00:35:00+00:00   \n",
       "3 2012-04-21 04:30:42.000000100          7.7 2012-04-21 04:30:42+00:00   \n",
       "4 2010-03-09 07:51:00.000000135          5.3 2010-03-09 07:51:00+00:00   \n",
       "\n",
       "   pickup_longitude  pickup_latitude  dropoff_longitude  dropoff_latitude  \\\n",
       "0        -73.844311        40.721319         -73.841610         40.712278   \n",
       "1        -74.016048        40.711303         -73.979268         40.782004   \n",
       "2        -73.982738        40.761270         -73.991242         40.750562   \n",
       "3        -73.987130        40.733143         -73.991567         40.758092   \n",
       "4        -73.968095        40.768008         -73.956655         40.783762   \n",
       "\n",
       "   passenger_count  year  month  day  weekday  hour  \n",
       "0                1  2009      6   15        0    17  \n",
       "1                1  2010      1    5        1    16  \n",
       "2                2  2011      8   18        3     0  \n",
       "3                1  2012      4   21        5     4  \n",
       "4                1  2010      3    9        1     7  "
      ]
     },
     "execution_count": 188,
     "metadata": {},
     "output_type": "execute_result"
    }
   ],
   "source": [
    "train.head()"
   ]
  },
  {
   "cell_type": "code",
   "execution_count": 189,
   "metadata": {},
   "outputs": [
    {
     "data": {
      "text/html": [
       "<div>\n",
       "<style scoped>\n",
       "    .dataframe tbody tr th:only-of-type {\n",
       "        vertical-align: middle;\n",
       "    }\n",
       "\n",
       "    .dataframe tbody tr th {\n",
       "        vertical-align: top;\n",
       "    }\n",
       "\n",
       "    .dataframe thead th {\n",
       "        text-align: right;\n",
       "    }\n",
       "</style>\n",
       "<table border=\"1\" class=\"dataframe\">\n",
       "  <thead>\n",
       "    <tr style=\"text-align: right;\">\n",
       "      <th></th>\n",
       "      <th>key</th>\n",
       "      <th>pickup_datetime</th>\n",
       "      <th>pickup_longitude</th>\n",
       "      <th>pickup_latitude</th>\n",
       "      <th>dropoff_longitude</th>\n",
       "      <th>dropoff_latitude</th>\n",
       "      <th>passenger_count</th>\n",
       "      <th>year</th>\n",
       "      <th>month</th>\n",
       "      <th>day</th>\n",
       "      <th>weekday</th>\n",
       "      <th>hour</th>\n",
       "    </tr>\n",
       "  </thead>\n",
       "  <tbody>\n",
       "    <tr>\n",
       "      <td>0</td>\n",
       "      <td>2015-01-27 13:08:24.000000200</td>\n",
       "      <td>2015-01-27 13:08:24+00:00</td>\n",
       "      <td>-73.973320</td>\n",
       "      <td>40.763805</td>\n",
       "      <td>-73.981430</td>\n",
       "      <td>40.743835</td>\n",
       "      <td>1</td>\n",
       "      <td>2015</td>\n",
       "      <td>1</td>\n",
       "      <td>27</td>\n",
       "      <td>1</td>\n",
       "      <td>13</td>\n",
       "    </tr>\n",
       "    <tr>\n",
       "      <td>1</td>\n",
       "      <td>2015-01-27 13:08:24.000000300</td>\n",
       "      <td>2015-01-27 13:08:24+00:00</td>\n",
       "      <td>-73.986862</td>\n",
       "      <td>40.719383</td>\n",
       "      <td>-73.998886</td>\n",
       "      <td>40.739201</td>\n",
       "      <td>1</td>\n",
       "      <td>2015</td>\n",
       "      <td>1</td>\n",
       "      <td>27</td>\n",
       "      <td>1</td>\n",
       "      <td>13</td>\n",
       "    </tr>\n",
       "    <tr>\n",
       "      <td>2</td>\n",
       "      <td>2011-10-08 11:53:44.000000200</td>\n",
       "      <td>2011-10-08 11:53:44+00:00</td>\n",
       "      <td>-73.982524</td>\n",
       "      <td>40.751260</td>\n",
       "      <td>-73.979654</td>\n",
       "      <td>40.746139</td>\n",
       "      <td>1</td>\n",
       "      <td>2011</td>\n",
       "      <td>10</td>\n",
       "      <td>8</td>\n",
       "      <td>5</td>\n",
       "      <td>11</td>\n",
       "    </tr>\n",
       "    <tr>\n",
       "      <td>3</td>\n",
       "      <td>2012-12-01 21:12:12.000000200</td>\n",
       "      <td>2012-12-01 21:12:12+00:00</td>\n",
       "      <td>-73.981160</td>\n",
       "      <td>40.767807</td>\n",
       "      <td>-73.990448</td>\n",
       "      <td>40.751635</td>\n",
       "      <td>1</td>\n",
       "      <td>2012</td>\n",
       "      <td>12</td>\n",
       "      <td>1</td>\n",
       "      <td>5</td>\n",
       "      <td>21</td>\n",
       "    </tr>\n",
       "    <tr>\n",
       "      <td>4</td>\n",
       "      <td>2012-12-01 21:12:12.000000300</td>\n",
       "      <td>2012-12-01 21:12:12+00:00</td>\n",
       "      <td>-73.966046</td>\n",
       "      <td>40.789775</td>\n",
       "      <td>-73.988565</td>\n",
       "      <td>40.744427</td>\n",
       "      <td>1</td>\n",
       "      <td>2012</td>\n",
       "      <td>12</td>\n",
       "      <td>1</td>\n",
       "      <td>5</td>\n",
       "      <td>21</td>\n",
       "    </tr>\n",
       "  </tbody>\n",
       "</table>\n",
       "</div>"
      ],
      "text/plain": [
       "                            key           pickup_datetime  pickup_longitude  \\\n",
       "0 2015-01-27 13:08:24.000000200 2015-01-27 13:08:24+00:00        -73.973320   \n",
       "1 2015-01-27 13:08:24.000000300 2015-01-27 13:08:24+00:00        -73.986862   \n",
       "2 2011-10-08 11:53:44.000000200 2011-10-08 11:53:44+00:00        -73.982524   \n",
       "3 2012-12-01 21:12:12.000000200 2012-12-01 21:12:12+00:00        -73.981160   \n",
       "4 2012-12-01 21:12:12.000000300 2012-12-01 21:12:12+00:00        -73.966046   \n",
       "\n",
       "   pickup_latitude  dropoff_longitude  dropoff_latitude  passenger_count  \\\n",
       "0        40.763805         -73.981430         40.743835                1   \n",
       "1        40.719383         -73.998886         40.739201                1   \n",
       "2        40.751260         -73.979654         40.746139                1   \n",
       "3        40.767807         -73.990448         40.751635                1   \n",
       "4        40.789775         -73.988565         40.744427                1   \n",
       "\n",
       "   year  month  day  weekday  hour  \n",
       "0  2015      1   27        1    13  \n",
       "1  2015      1   27        1    13  \n",
       "2  2011     10    8        5    11  \n",
       "3  2012     12    1        5    21  \n",
       "4  2012     12    1        5    21  "
      ]
     },
     "execution_count": 189,
     "metadata": {},
     "output_type": "execute_result"
    }
   ],
   "source": [
    "test.head()"
   ]
  },
  {
   "cell_type": "markdown",
   "metadata": {},
   "source": [
    "# 2.数据探索性分析"
   ]
  },
  {
   "cell_type": "markdown",
   "metadata": {},
   "source": [
    "## 1.1缺失值"
   ]
  },
  {
   "cell_type": "code",
   "execution_count": 190,
   "metadata": {},
   "outputs": [
    {
     "data": {
      "text/plain": [
       "dropoff_latitude     14\n",
       "dropoff_longitude    14\n",
       "hour                  0\n",
       "weekday               0\n",
       "day                   0\n",
       "month                 0\n",
       "year                  0\n",
       "passenger_count       0\n",
       "pickup_latitude       0\n",
       "pickup_longitude      0\n",
       "pickup_datetime       0\n",
       "fare_amount           0\n",
       "key                   0\n",
       "dtype: int64"
      ]
     },
     "execution_count": 190,
     "metadata": {},
     "output_type": "execute_result"
    }
   ],
   "source": [
    "train.isnull().sum().sort_values(ascending=False)"
   ]
  },
  {
   "cell_type": "code",
   "execution_count": 191,
   "metadata": {},
   "outputs": [],
   "source": [
    "train.drop(train[train.isnull().any(1)].index, axis=0, inplace=True)\n",
    "#删减缺失行"
   ]
  },
  {
   "cell_type": "code",
   "execution_count": 192,
   "metadata": {},
   "outputs": [
    {
     "data": {
      "text/plain": [
       "(1999986, 13)"
      ]
     },
     "execution_count": 192,
     "metadata": {},
     "output_type": "execute_result"
    }
   ],
   "source": [
    "train.shape"
   ]
  },
  {
   "cell_type": "markdown",
   "metadata": {},
   "source": [
    "## 1.2异常值"
   ]
  },
  {
   "cell_type": "markdown",
   "metadata": {},
   "source": [
    "### 1.2.1车费应为正值"
   ]
  },
  {
   "cell_type": "code",
   "execution_count": 193,
   "metadata": {},
   "outputs": [
    {
     "data": {
      "text/plain": [
       "count    1.999986e+06\n",
       "mean     1.134768e+01\n",
       "std      9.852609e+00\n",
       "min     -6.200000e+01\n",
       "25%      6.000000e+00\n",
       "50%      8.500000e+00\n",
       "75%      1.250000e+01\n",
       "max      1.273310e+03\n",
       "Name: fare_amount, dtype: float64"
      ]
     },
     "execution_count": 193,
     "metadata": {},
     "output_type": "execute_result"
    }
   ],
   "source": [
    "train['fare_amount'].describe()"
   ]
  },
  {
   "cell_type": "code",
   "execution_count": 194,
   "metadata": {},
   "outputs": [
    {
     "data": {
      "text/plain": [
       "Counter({False: 1999909, True: 77})"
      ]
     },
     "execution_count": 194,
     "metadata": {},
     "output_type": "execute_result"
    }
   ],
   "source": [
    "from collections import Counter\n",
    "Counter(train['fare_amount']<0)#计算负值个数"
   ]
  },
  {
   "cell_type": "code",
   "execution_count": 195,
   "metadata": {},
   "outputs": [],
   "source": [
    "train = train[train.fare_amount>=0]#删除负值行"
   ]
  },
  {
   "cell_type": "code",
   "execution_count": 196,
   "metadata": {},
   "outputs": [
    {
     "data": {
      "text/plain": [
       "(1999909, 13)"
      ]
     },
     "execution_count": 196,
     "metadata": {},
     "output_type": "execute_result"
    }
   ],
   "source": [
    "train.shape"
   ]
  },
  {
   "cell_type": "code",
   "execution_count": 197,
   "metadata": {},
   "outputs": [
    {
     "data": {
      "text/plain": [
       "Text(0, 0.5, 'Frequency')"
      ]
     },
     "execution_count": 197,
     "metadata": {},
     "output_type": "execute_result"
    },
    {
     "data": {
      "image/png": "[encoded data removed]",
      "text/plain": [
       "<Figure size 1152x576 with 1 Axes>"
      ]
     },
     "metadata": {
      "needs_background": "light"
     },
     "output_type": "display_data"
    }
   ],
   "source": [
    "#可视化分布\n",
    "train.fare_amount.hist(bins=100,figsize = (16,8))\n",
    "plt.xlabel(\"Fare Amount\")\n",
    "plt.ylabel(\"Frequency\")"
   ]
  },
  {
   "cell_type": "code",
   "execution_count": 198,
   "metadata": {},
   "outputs": [
    {
     "data": {
      "text/plain": [
       "Text(0, 0.5, 'Frequency')"
      ]
     },
     "execution_count": 198,
     "metadata": {},
     "output_type": "execute_result"
    },
    {
     "data": {
      "image/png": "[encoded data removed]",
      "text/plain": [
       "<Figure size 1152x576 with 1 Axes>"
      ]
     },
     "metadata": {
      "needs_background": "light"
     },
     "output_type": "display_data"
    }
   ],
   "source": [
    "#由图细分放大观察1\n",
    "train[train.fare_amount < 90].fare_amount.hist(bins=100, figsize = (16,8))\n",
    "plt.xlabel(\"Fare Amount\")\n",
    "plt.ylabel(\"Frequency\")"
   ]
  },
  {
   "cell_type": "code",
   "execution_count": 199,
   "metadata": {},
   "outputs": [
    {
     "data": {
      "text/plain": [
       "Text(0, 0.5, 'Frequency')"
      ]
     },
     "execution_count": 199,
     "metadata": {},
     "output_type": "execute_result"
    },
    {
     "data": {
      "image/png": "[encoded data removed]",
      "text/plain": [
       "<Figure size 1152x576 with 1 Axes>"
      ]
     },
     "metadata": {
      "needs_background": "light"
     },
     "output_type": "display_data"
    }
   ],
   "source": [
    "#由图细分放大观察2\n",
    "train[train.fare_amount >= 90].fare_amount.hist(bins=100, figsize = (16,8))\n",
    "plt.xlabel(\"Fare Amount\")\n",
    "plt.ylabel(\"Frequency\")"
   ]
  },
  {
   "cell_type": "code",
   "execution_count": 200,
   "metadata": {},
   "outputs": [
    {
     "name": "stdout",
     "output_type": "stream",
     "text": [
      "(1998677, 13)\n",
      "(1232, 13)\n"
     ]
    }
   ],
   "source": [
    "print(train[train.fare_amount < 90].shape)\n",
    "print(train[train.fare_amount >= 90].shape)"
   ]
  },
  {
   "cell_type": "markdown",
   "metadata": {},
   "source": [
    "### 1.2.2经度纬度范围应正常"
   ]
  },
  {
   "cell_type": "code",
   "execution_count": 201,
   "metadata": {},
   "outputs": [
    {
     "data": {
      "text/plain": [
       "count    1.999909e+06\n",
       "mean     3.992968e+01\n",
       "std      7.983332e+00\n",
       "min     -3.458665e+03\n",
       "25%      4.073491e+01\n",
       "50%      4.075263e+01\n",
       "75%      4.076710e+01\n",
       "max      2.621628e+03\n",
       "Name: pickup_latitude, dtype: float64"
      ]
     },
     "execution_count": 201,
     "metadata": {},
     "output_type": "execute_result"
    }
   ],
   "source": [
    "#上车纬度（-90至90）\n",
    "train['pickup_latitude'].describe()"
   ]
  },
  {
   "cell_type": "code",
   "execution_count": 202,
   "metadata": {},
   "outputs": [
    {
     "name": "stdout",
     "output_type": "stream",
     "text": [
      "Counter({False: 1999901, True: 8})\n",
      "Counter({False: 1999884, True: 25})\n"
     ]
    }
   ],
   "source": [
    "from collections import Counter\n",
    "print(Counter(train['pickup_latitude'] < -90))\n",
    "print(Counter(train['pickup_latitude'] > 90))"
   ]
  },
  {
   "cell_type": "code",
   "execution_count": 203,
   "metadata": {},
   "outputs": [
    {
     "name": "stdout",
     "output_type": "stream",
     "text": [
      "                                  key  fare_amount           pickup_datetime  \\\n",
      "150559  2012-08-03 07:43:00.000000176         25.3 2012-08-03 07:43:00+00:00   \n",
      "436233  2012-03-11 01:56:00.000000100          4.1 2012-03-11 01:56:00+00:00   \n",
      "543001  2011-10-28 13:53:00.000000178          5.3 2011-10-28 13:53:00+00:00   \n",
      "1281413 2011-09-02 22:51:00.000000213         11.3 2011-09-02 22:51:00+00:00   \n",
      "1340837 2011-06-09 10:39:00.000000137         10.1 2011-06-09 10:39:00+00:00   \n",
      "1388984 2012-01-18 21:33:00.000000680         11.3 2012-01-18 21:33:00+00:00   \n",
      "1606685 2011-07-05 17:10:00.000000630          4.9 2011-07-05 17:10:00+00:00   \n",
      "1781778 2011-10-13 07:10:00.000000140          6.5 2011-10-13 07:10:00+00:00   \n",
      "\n",
      "         pickup_longitude  pickup_latitude  dropoff_longitude  \\\n",
      "150559           0.000000     -3116.285383         -73.953600   \n",
      "436233       -2986.242495      -880.627428       -3383.296608   \n",
      "543001       -3377.680935      -113.019497        -554.918693   \n",
      "1281413      -2256.421232     -1185.391185       -2256.421232   \n",
      "1340837       2434.238557     -3458.664702       -1281.933787   \n",
      "1388984      -1649.643088      -849.829532        2842.474030   \n",
      "1606685      -1329.480383      -764.564600        3382.125693   \n",
      "1781778      -1659.514697      -821.904472       -1659.514697   \n",
      "\n",
      "         dropoff_latitude  passenger_count  year  month  day  weekday  hour  \n",
      "150559          40.787998                1  2012      8    3        4     7  \n",
      "436233       -2559.748913                1  2012      3   11        6     1  \n",
      "543001         314.794180                1  2011     10   28        4    13  \n",
      "1281413      -1185.391185                1  2011      9    2        4    22  \n",
      "1340837       -104.637653                1  2011      6    9        3    10  \n",
      "1388984       3345.917353                1  2012      1   18        2    21  \n",
      "1606685      -1160.217295                1  2011      7    5        1    17  \n",
      "1781778       -821.904472                1  2011     10   13        3     7  \n",
      "                                  key  fare_amount           pickup_datetime  \\\n",
      "5686    2011-07-30 11:15:00.000000820         3.30 2011-07-30 11:15:00+00:00   \n",
      "174356  2011-11-21 21:36:00.000000810         9.70 2011-11-21 21:36:00+00:00   \n",
      "272439  2011-04-23 02:55:00.000000120         9.30 2011-04-23 02:55:00+00:00   \n",
      "464025  2012-03-05 20:58:00.000000900         6.90 2012-03-05 20:58:00+00:00   \n",
      "505229  2012-03-05 21:08:00.000000600         9.30 2012-03-05 21:08:00+00:00   \n",
      "505583  2012-03-16 08:13:00.000000272         8.50 2012-03-16 08:13:00+00:00   \n",
      "688685  2012-03-22 21:40:00.000000188        17.30 2012-03-22 21:40:00+00:00   \n",
      "708059  2012-05-24 22:44:00.000000880         5.30 2012-05-24 22:44:00+00:00   \n",
      "970268  2012-04-12 07:31:00.000000270         5.70 2012-04-12 07:31:00+00:00   \n",
      "1019868 2011-05-19 00:34:00.000000159         7.70 2011-05-19 00:34:00+00:00   \n",
      "1197804 2012-04-18 12:12:00.000000148         7.30 2012-04-18 12:12:00+00:00   \n",
      "1237988 2011-12-30 09:10:00.000000870        49.80 2011-12-30 09:10:00+00:00   \n",
      "1258028 2012-01-16 12:53:00.000000205         6.50 2012-01-16 12:53:00+00:00   \n",
      "1273485 2011-07-01 01:55:00.000000700        12.50 2011-07-01 01:55:00+00:00   \n",
      "1336834 2011-07-23 03:45:00.000000830         8.50 2011-07-23 03:45:00+00:00   \n",
      "1456109 2011-09-01 09:48:00.000000157         8.50 2011-09-01 09:48:00+00:00   \n",
      "1550620 2012-02-03 14:52:00.000000580         8.10 2012-02-03 14:52:00+00:00   \n",
      "1557985 2011-08-08 22:20:00.000000164         7.30 2011-08-08 22:20:00+00:00   \n",
      "1560654 2011-12-27 08:23:00.000000320         6.10 2011-12-27 08:23:00+00:00   \n",
      "1607336 2011-12-17 08:33:00.000000550         6.10 2011-12-17 08:33:00+00:00   \n",
      "1638837 2010-06-25 16:12:00.000000177        38.27 2010-06-25 16:12:00+00:00   \n",
      "1669971 2012-02-22 19:27:00.000000150         5.30 2012-02-22 19:27:00+00:00   \n",
      "1724830 2013-03-22 22:31:00.000000930         7.50 2013-03-22 22:31:00+00:00   \n",
      "1726057 2012-03-01 22:40:00.000000237         8.10 2012-03-01 22:40:00+00:00   \n",
      "1813945 2013-02-26 05:52:00.000000360         6.50 2013-02-26 05:52:00+00:00   \n",
      "\n",
      "         pickup_longitude  pickup_latitude  dropoff_longitude  \\\n",
      "5686           -73.947235       401.083332         -73.951392   \n",
      "174356        2140.601160      1703.092772       -1251.195890   \n",
      "272439         -74.002497       405.350000         -73.978600   \n",
      "464025         -73.994268       404.966667         -73.973857   \n",
      "505229         -73.994268       404.966667         -73.986387   \n",
      "505583         -73.994277       405.133332         -73.956763   \n",
      "688685        2522.271325      2621.628430       -1718.117653   \n",
      "708059         -73.989188        91.266667         -73.982362   \n",
      "970268         -73.957087       424.083332         -73.968312   \n",
      "1019868        351.052520      1669.582038        1717.003405   \n",
      "1197804        -73.962313       404.233332         -73.969750   \n",
      "1237988      -3007.205450       284.006283        -844.140168   \n",
      "1258028       1721.172660      1283.652605        2469.149042   \n",
      "1273485       2417.411523       825.064365        2537.705273   \n",
      "1336834       -322.866957      1222.118478         448.905230   \n",
      "1456109      -2647.971338       288.185538       -2647.971338   \n",
      "1550620        -73.986027       404.966667         -73.984325   \n",
      "1557985         40.658090       317.580350          40.658090   \n",
      "1560654      -2973.644717      2009.266280       -2913.518675   \n",
      "1607336        -73.980335       405.416667         -73.986982   \n",
      "1638837        -74.051058      1963.515858         -74.051058   \n",
      "1669971        -73.967842       405.583332         -73.958167   \n",
      "1724830          0.000000       403.989227           0.000000   \n",
      "1726057       2856.441560      1320.026188        3414.306675   \n",
      "1813945        -73.961663       405.150000         -73.973698   \n",
      "\n",
      "         dropoff_latitude  passenger_count  year  month  day  weekday  hour  \n",
      "5686            40.778927                1  2011      7   30        5    11  \n",
      "174356       -1189.615440                1  2011     11   21        0    21  \n",
      "272439          40.739962                1  2011      4   23        5     2  \n",
      "464025          40.755457                1  2012      3    5        0    20  \n",
      "505229          40.776895                1  2012      3    5        0    21  \n",
      "505583          40.783737                1  2012      3   16        4     8  \n",
      "688685       -2864.471003                1  2012      3   22        3    21  \n",
      "708059          40.763105                1  2012      5   24        3    22  \n",
      "970268          40.765117                1  2012      4   12        3     7  \n",
      "1019868       1989.728077                1  2011      5   19        3     0  \n",
      "1197804         40.763007                1  2012      4   18        2    12  \n",
      "1237988       2950.087992                1  2011     12   30        4     9  \n",
      "1258028       2193.823087                1  2012      1   16        0    12  \n",
      "1273485       3305.291182                1  2011      7    1        4     1  \n",
      "1336834      -3461.540872                1  2011      7   23        5     3  \n",
      "1456109        288.185538                1  2011      9    1        3     9  \n",
      "1550620         40.743397                1  2012      2    3        4    14  \n",
      "1557985        317.580350                1  2011      8    8        0    22  \n",
      "1560654      -3092.393485                1  2011     12   27        1     8  \n",
      "1607336         40.756322                4  2011     12   17        5     8  \n",
      "1638837       1963.515858                1  2010      6   25        4    16  \n",
      "1669971         40.772747                4  2012      2   22        2    19  \n",
      "1724830          0.000000                1  2013      3   22        4    22  \n",
      "1726057       1248.743787                1  2012      3    1        3    22  \n",
      "1813945         40.757122                6  2013      2   26        1     5  \n"
     ]
    }
   ],
   "source": [
    "print(train[train['pickup_latitude']<-90])\n",
    "print(train[train['pickup_latitude']>90])"
   ]
  },
  {
   "cell_type": "code",
   "execution_count": 204,
   "metadata": {},
   "outputs": [],
   "source": [
    "#删除错误值\n",
    "train.drop(train[(train['pickup_latitude']<-90) | (train['pickup_latitude']>90)].index, axis=0, inplace=True)"
   ]
  },
  {
   "cell_type": "code",
   "execution_count": 205,
   "metadata": {},
   "outputs": [
    {
     "data": {
      "text/plain": [
       "(1999876, 13)"
      ]
     },
     "execution_count": 205,
     "metadata": {},
     "output_type": "execute_result"
    }
   ],
   "source": [
    "train.shape"
   ]
  },
  {
   "cell_type": "code",
   "execution_count": 206,
   "metadata": {},
   "outputs": [
    {
     "data": {
      "text/plain": [
       "count    1.999876e+06\n",
       "mean    -7.252015e+01\n",
       "std      1.096722e+01\n",
       "min     -2.320853e+03\n",
       "25%     -7.399208e+01\n",
       "50%     -7.398181e+01\n",
       "75%     -7.396713e+01\n",
       "max      2.814476e+03\n",
       "Name: pickup_longitude, dtype: float64"
      ]
     },
     "execution_count": 206,
     "metadata": {},
     "output_type": "execute_result"
    }
   ],
   "source": [
    "#上车点经度（-180至180）\n",
    "train['pickup_longitude'].describe()"
   ]
  },
  {
   "cell_type": "code",
   "execution_count": 207,
   "metadata": {},
   "outputs": [
    {
     "name": "stdout",
     "output_type": "stream",
     "text": [
      "Counter({False: 1999856, True: 20})\n",
      "Counter({False: 1999875, True: 1})\n"
     ]
    }
   ],
   "source": [
    "from collections import Counter\n",
    "print(Counter(train['pickup_longitude']<-180))\n",
    "print(Counter(train['pickup_longitude']>180))"
   ]
  },
  {
   "cell_type": "code",
   "execution_count": 208,
   "metadata": {},
   "outputs": [
    {
     "name": "stdout",
     "output_type": "stream",
     "text": [
      "                                  key  fare_amount           pickup_datetime  \\\n",
      "60442   2012-01-12 13:36:00.000000186         4.90 2012-01-12 13:36:00+00:00   \n",
      "217355  2012-06-03 23:21:00.000000770         6.10 2012-06-03 23:21:00+00:00   \n",
      "243342  2012-08-02 10:38:00.000000111         7.30 2012-08-02 10:38:00+00:00   \n",
      "351119  2012-02-03 07:53:00.000000135         4.10 2012-02-03 07:53:00+00:00   \n",
      "370663  2012-05-04 23:19:00.000000261         6.10 2012-05-04 23:19:00+00:00   \n",
      "416859  2012-07-21 15:23:00.000000930         6.50 2012-07-21 15:23:00+00:00   \n",
      "568830  2013-05-23 15:23:00.000000700        11.50 2013-05-23 15:23:00+00:00   \n",
      "675500  2011-10-28 10:53:00.000000800        16.90 2011-10-28 10:53:00+00:00   \n",
      "837619  2012-07-17 08:38:00.000000116        39.70 2012-07-17 08:38:00+00:00   \n",
      "914435  2012-03-04 00:10:00.000000131        11.70 2012-03-04 00:10:00+00:00   \n",
      "921758  2012-05-21 10:57:00.000000840        10.10 2012-05-21 10:57:00+00:00   \n",
      "1043169 2013-03-15 11:11:00.000000190        36.83 2013-03-15 11:11:00+00:00   \n",
      "1055960 2011-11-05 23:26:00.000000309        33.70 2011-11-05 23:26:00+00:00   \n",
      "1111257 2012-07-29 15:40:00.000000830        14.90 2012-07-29 15:40:00+00:00   \n",
      "1441942 2011-12-26 10:42:00.000000800         4.50 2011-12-26 10:42:00+00:00   \n",
      "1497332 2011-07-18 07:10:00.000000130         5.30 2011-07-18 07:10:00+00:00   \n",
      "1535841 2012-04-24 09:02:00.000000960         4.90 2012-04-24 09:02:00+00:00   \n",
      "1669969 2012-01-20 18:21:00.000000232         5.70 2012-01-20 18:21:00+00:00   \n",
      "1852898 2012-04-05 08:28:00.000000370         4.10 2012-04-05 08:28:00+00:00   \n",
      "1994336 2012-02-14 09:48:00.000000120        10.50 2012-02-14 09:48:00+00:00   \n",
      "\n",
      "         pickup_longitude  pickup_latitude  dropoff_longitude  \\\n",
      "60442         -736.550000        40.738230         -73.988742   \n",
      "217355        -740.000000        40.747620           0.000000   \n",
      "243342        -736.333333        40.766480         -73.987928   \n",
      "351119        -736.483332        40.766512         -73.981992   \n",
      "370663        -736.516667        40.719095         -74.003952   \n",
      "416859        -736.416665        40.752285         -73.992565   \n",
      "568830        -735.888333        40.760863         -73.989835   \n",
      "675500       -1452.988333        40.776000         -73.989487   \n",
      "837619        -736.000000        40.758507           0.000000   \n",
      "914435        -736.250000        40.788027         -73.990812   \n",
      "921758        -736.650000        40.761075           0.000000   \n",
      "1043169       -736.333333        40.755922         -73.871502   \n",
      "1055960       -735.200000        40.770092         -73.980187   \n",
      "1111257       -736.266667        40.777002           0.000000   \n",
      "1441942      -1182.085852        40.867107       -1182.095360   \n",
      "1497332       -736.566667        40.755662         -73.976190   \n",
      "1535841       -736.166665        40.763905         -73.956043   \n",
      "1669969      -2320.853032         0.043332         -73.987465   \n",
      "1852898       -797.916665        40.743922         -73.999382   \n",
      "1994336       -736.333333        40.756345         -73.985257   \n",
      "\n",
      "         dropoff_latitude  passenger_count  year  month  day  weekday  hour  \n",
      "60442           40.748847                1  2012      1   12        3    13  \n",
      "217355           0.000000                6  2012      6    3        6    23  \n",
      "243342          40.751742                3  2012      8    2        3    10  \n",
      "351119          40.771672                1  2012      2    3        4     7  \n",
      "370663          40.729860                1  2012      5    4        4    23  \n",
      "416859          40.742687                1  2012      7   21        5    15  \n",
      "568830          40.738443                5  2013      5   23        3    15  \n",
      "675500          40.740667                2  2011     10   28        4    10  \n",
      "837619           0.000000                5  2012      7   17        1     8  \n",
      "914435          40.750942                1  2012      3    4        6     0  \n",
      "921758           0.000000                1  2012      5   21        0    10  \n",
      "1043169         40.774202                1  2013      3   15        4    11  \n",
      "1055960         40.765530                1  2011     11    5        5    23  \n",
      "1111257          0.000000                2  2012      7   29        6    15  \n",
      "1441942         40.866520                5  2011     12   26        0    10  \n",
      "1497332         40.754715                1  2011      7   18        0     7  \n",
      "1535841         40.763622                1  2012      4   24        1     9  \n",
      "1669969         40.760292                5  2012      1   20        4    18  \n",
      "1852898         40.738957                1  2012      4    5        3     8  \n",
      "1994336         40.775435                5  2012      2   14        1     9  \n",
      "                                  key  fare_amount           pickup_datetime  \\\n",
      "1632919 2010-08-10 18:19:45.000000100          7.3 2010-08-10 18:19:45+00:00   \n",
      "\n",
      "         pickup_longitude  pickup_latitude  dropoff_longitude  \\\n",
      "1632919       2814.475637       -66.919318       -2633.912142   \n",
      "\n",
      "         dropoff_latitude  passenger_count  year  month  day  weekday  hour  \n",
      "1632919       3320.686797                1  2010      8   10        1    18  \n"
     ]
    }
   ],
   "source": [
    "print(train[train['pickup_longitude']<-180])\n",
    "print(train[train['pickup_longitude']>180])"
   ]
  },
  {
   "cell_type": "code",
   "execution_count": 209,
   "metadata": {},
   "outputs": [],
   "source": [
    "#删除错误值\n",
    "train.drop(train[(train['pickup_longitude']<-180) | (train['pickup_longitude']>180)].index, axis=0, inplace=True)"
   ]
  },
  {
   "cell_type": "code",
   "execution_count": 210,
   "metadata": {},
   "outputs": [
    {
     "data": {
      "text/plain": [
       "(1999855, 13)"
      ]
     },
     "execution_count": 210,
     "metadata": {},
     "output_type": "execute_result"
    }
   ],
   "source": [
    "train.shape"
   ]
  },
  {
   "cell_type": "code",
   "execution_count": 211,
   "metadata": {},
   "outputs": [
    {
     "data": {
      "text/plain": [
       "count    1.999855e+06\n",
       "mean     3.992628e+01\n",
       "std      7.616626e+00\n",
       "min     -3.114339e+03\n",
       "25%      4.073400e+01\n",
       "50%      4.075312e+01\n",
       "75%      4.076809e+01\n",
       "max      3.210337e+03\n",
       "Name: dropoff_latitude, dtype: float64"
      ]
     },
     "execution_count": 211,
     "metadata": {},
     "output_type": "execute_result"
    }
   ],
   "source": [
    "#下车点纬度（-90至90）\n",
    "train['dropoff_latitude'].describe()"
   ]
  },
  {
   "cell_type": "code",
   "execution_count": 212,
   "metadata": {},
   "outputs": [
    {
     "name": "stdout",
     "output_type": "stream",
     "text": [
      "Counter({False: 1999851, True: 4})\n",
      "Counter({False: 1999845, True: 10})\n"
     ]
    }
   ],
   "source": [
    "from collections import Counter\n",
    "print(Counter(train['dropoff_latitude'] < -90))\n",
    "print(Counter(train['dropoff_latitude'] > 90))"
   ]
  },
  {
   "cell_type": "code",
   "execution_count": 213,
   "metadata": {},
   "outputs": [
    {
     "name": "stdout",
     "output_type": "stream",
     "text": [
      "                                  key  fare_amount           pickup_datetime  \\\n",
      "579901  2013-08-14 20:23:00.000000245         18.0 2013-08-14 20:23:00+00:00   \n",
      "1254291 2012-04-18 11:08:00.000000210          6.1 2012-04-18 11:08:00+00:00   \n",
      "1448456 2009-09-09 09:11:00.000000161          5.7 2009-09-09 09:11:00+00:00   \n",
      "1512218 2010-08-12 19:33:03.000000400          7.7 2010-08-12 19:33:03+00:00   \n",
      "\n",
      "         pickup_longitude  pickup_latitude  dropoff_longitude  \\\n",
      "579901         -73.999190        40.720200          -0.360000   \n",
      "1254291        -74.000640        40.728432           0.000000   \n",
      "1448456        -74.002892        40.728170           0.000000   \n",
      "1512218        -73.999023        40.744502         -73.983568   \n",
      "\n",
      "         dropoff_latitude  passenger_count  year  month  day  weekday  hour  \n",
      "579901       -3114.338567                1  2013      8   14        2    20  \n",
      "1254291      -2515.672033                1  2012      4   18        2    11  \n",
      "1448456      -1353.533270                1  2009      9    9        2     9  \n",
      "1512218      -2518.947010                1  2010      8   12        3    19  \n",
      "                                  key  fare_amount           pickup_datetime  \\\n",
      "92310   2011-09-27 11:54:00.000000127         28.9 2011-09-27 11:54:00+00:00   \n",
      "181973  2012-01-03 09:04:00.000000130          6.5 2012-01-03 09:04:00+00:00   \n",
      "335675  2012-02-26 00:25:00.000000850         19.3 2012-02-26 00:25:00+00:00   \n",
      "561910  2010-08-14 03:42:59.000000100          4.5 2010-08-14 03:42:59+00:00   \n",
      "582110  2012-05-02 14:20:00.000000131         30.5 2012-05-02 14:20:00+00:00   \n",
      "748464  2013-01-02 11:33:00.000000200         15.0 2013-01-02 11:33:00+00:00   \n",
      "889704  2012-05-21 12:15:00.000000980         15.3 2012-05-21 12:15:00+00:00   \n",
      "1041515 2012-06-11 14:36:00.000000900         14.9 2012-06-11 14:36:00+00:00   \n",
      "1227322 2011-09-30 20:20:00.000000205          7.3 2011-09-30 20:20:00+00:00   \n",
      "1699666 2012-09-13 07:34:00.000000101         12.5 2012-09-13 07:34:00+00:00   \n",
      "\n",
      "         pickup_longitude  pickup_latitude  dropoff_longitude  \\\n",
      "92310          -74.014595        40.681880         -73.973310   \n",
      "181973         -74.008918        40.717827         -74.000855   \n",
      "335675         -74.006457        40.743865         -73.981283   \n",
      "561910         -73.977635        40.754687         -73.870432   \n",
      "582110         -73.870875        40.773792         -73.977790   \n",
      "748464         -74.015200        40.709665         -40.719295   \n",
      "889704         -74.001292        40.727560         -73.953047   \n",
      "1041515        -73.949868        40.822197           0.000000   \n",
      "1227322        -74.004168        40.707692         -74.004062   \n",
      "1699666        -73.970357        40.757368          -0.068333   \n",
      "\n",
      "         dropoff_latitude  passenger_count  year  month  day  weekday  hour  \n",
      "92310          404.616667                1  2011      9   27        1    11  \n",
      "181973         404.133332                1  2012      1    3        1     9  \n",
      "335675         404.133332                1  2012      2   26        6     0  \n",
      "561910         405.650000                1  2010      8   14        5     3  \n",
      "582110         404.716667                1  2012      5    2        2    14  \n",
      "748464        1651.553433                5  2013      1    2        2    11  \n",
      "889704         404.466667                1  2012      5   21        0    12  \n",
      "1041515       1903.111567                1  2012      6   11        0    14  \n",
      "1227322        433.483332                1  2011      9   30        4    20  \n",
      "1699666       3210.337087                1  2012      9   13        3     7  \n"
     ]
    }
   ],
   "source": [
    "print(train[train['dropoff_latitude']<-90])\n",
    "print(train[train['dropoff_latitude']>90])"
   ]
  },
  {
   "cell_type": "code",
   "execution_count": 214,
   "metadata": {},
   "outputs": [],
   "source": [
    "#删除错误值\n",
    "train.drop(train[(train['dropoff_latitude']<-90) | (train['dropoff_latitude']>90)].index, axis=0, inplace=True)"
   ]
  },
  {
   "cell_type": "code",
   "execution_count": 215,
   "metadata": {},
   "outputs": [
    {
     "data": {
      "text/plain": [
       "(1999841, 13)"
      ]
     },
     "execution_count": 215,
     "metadata": {},
     "output_type": "execute_result"
    }
   ],
   "source": [
    "train.shape"
   ]
  },
  {
   "cell_type": "code",
   "execution_count": 216,
   "metadata": {},
   "outputs": [
    {
     "data": {
      "text/plain": [
       "count    1.999841e+06\n",
       "mean    -7.252249e+01\n",
       "std      1.072011e+01\n",
       "min     -2.125745e+03\n",
       "25%     -7.399141e+01\n",
       "50%     -7.398016e+01\n",
       "75%     -7.396369e+01\n",
       "max      4.558162e+01\n",
       "Name: dropoff_longitude, dtype: float64"
      ]
     },
     "execution_count": 216,
     "metadata": {},
     "output_type": "execute_result"
    }
   ],
   "source": [
    "#下车点经度（-180至180）\n",
    "train['dropoff_longitude'].describe()"
   ]
  },
  {
   "cell_type": "code",
   "execution_count": 217,
   "metadata": {},
   "outputs": [
    {
     "name": "stdout",
     "output_type": "stream",
     "text": [
      "Counter({False: 1999824, True: 17})\n",
      "Counter({False: 1999841})\n"
     ]
    }
   ],
   "source": [
    "from collections import Counter\n",
    "print(Counter(train['dropoff_longitude'] < -180))\n",
    "print(Counter(train['dropoff_longitude'] > 180))"
   ]
  },
  {
   "cell_type": "code",
   "execution_count": 218,
   "metadata": {},
   "outputs": [
    {
     "name": "stdout",
     "output_type": "stream",
     "text": [
      "                                  key  fare_amount           pickup_datetime  \\\n",
      "269695  2012-05-24 09:00:00.000000101         17.7 2012-05-24 09:00:00+00:00   \n",
      "282374  2011-04-25 13:09:00.000000123          5.7 2011-04-25 13:09:00+00:00   \n",
      "449263  2012-01-28 16:51:00.000000880          6.9 2012-01-28 16:51:00+00:00   \n",
      "472273  2012-02-09 17:42:00.000000250         49.8 2012-02-09 17:42:00+00:00   \n",
      "666352  2012-03-16 22:02:00.000000257          4.9 2012-03-16 22:02:00+00:00   \n",
      "757003  2012-04-29 20:45:00.000000211          3.3 2012-04-29 20:45:00+00:00   \n",
      "858760  2012-06-19 07:41:00.000000190          6.1 2012-06-19 07:41:00+00:00   \n",
      "907792  2012-02-18 00:22:00.000000100          8.1 2012-02-18 00:22:00+00:00   \n",
      "967162  2012-02-09 17:42:00.000000178          5.7 2012-02-09 17:42:00+00:00   \n",
      "1177891 2012-01-14 08:35:00.000000460         17.7 2012-01-14 08:35:00+00:00   \n",
      "1268218 2012-07-30 15:54:00.000000490          8.1 2012-07-30 15:54:00+00:00   \n",
      "1480417 2012-03-05 10:49:00.000000560         10.5 2012-03-05 10:49:00+00:00   \n",
      "1509114 2010-04-10 17:38:00.000000192          5.7 2010-04-10 17:38:00+00:00   \n",
      "1617532 2012-01-09 17:20:00.000000870          4.5 2012-01-09 17:20:00+00:00   \n",
      "1772963 2010-11-22 23:02:00.000000106          4.5 2010-11-22 23:02:00+00:00   \n",
      "1935280 2012-09-18 17:13:00.000000153          9.5 2012-09-18 17:13:00+00:00   \n",
      "1974954 2012-05-19 23:45:00.000000670          6.5 2012-05-19 23:45:00+00:00   \n",
      "\n",
      "         pickup_longitude  pickup_latitude  dropoff_longitude  \\\n",
      "269695         -73.997572        40.720945       -1329.621332   \n",
      "282374         -73.987105        40.755732        -732.600000   \n",
      "449263         -73.983142        40.741987        -736.500000   \n",
      "472273         -73.937167        40.758112        -736.083333   \n",
      "666352         -73.992605        40.726815        -472.266667   \n",
      "757003         -73.990675        40.761037        -736.550000   \n",
      "858760         -73.982467        40.771612        -736.416665   \n",
      "907792         -73.991215        40.750727        -740.000000   \n",
      "967162         -74.006390        40.739552        -740.066667   \n",
      "1177891        -73.946155        40.788698       -1183.275658   \n",
      "1268218        -73.964177        40.807482        -773.941040   \n",
      "1480417          0.000000         0.000000       -1183.352112   \n",
      "1509114        -73.996952        40.728902        -723.516667   \n",
      "1617532        -73.976450        40.739612        -734.833333   \n",
      "1772963        -73.987187        40.742285        -731.150000   \n",
      "1935280        -73.979395        40.752990       -2125.745368   \n",
      "1974954        -73.993333        40.735047        -782.100000   \n",
      "\n",
      "         dropoff_latitude  passenger_count  year  month  day  weekday  hour  \n",
      "269695          40.773717                1  2012      5   24        3     9  \n",
      "282374          40.744832                1  2011      4   25        0    13  \n",
      "449263          40.755255                1  2012      1   28        5    16  \n",
      "472273          40.758112                6  2012      2    9        3    17  \n",
      "666352          40.733332                1  2012      3   16        4    22  \n",
      "757003          40.760182                5  2012      4   29        6    20  \n",
      "858760          40.764310                1  2012      6   19        1     7  \n",
      "907792          40.726617                1  2012      2   18        5     0  \n",
      "967162          40.724792                1  2012      2    9        3    17  \n",
      "1177891         40.773920                5  2012      1   14        5     8  \n",
      "1268218         40.805880                6  2012      7   30        0    15  \n",
      "1480417         40.814290                1  2012      3    5        0    10  \n",
      "1509114         40.733315                1  2010      4   10        5    17  \n",
      "1617532         40.735730                1  2012      1    9        0    17  \n",
      "1772963         40.750452                2  2010     11   22        0    23  \n",
      "1935280          0.000000                1  2012      9   18        1    17  \n",
      "1974954         40.726322                6  2012      5   19        5    23  \n",
      "Empty DataFrame\n",
      "Columns: [key, fare_amount, pickup_datetime, pickup_longitude, pickup_latitude, dropoff_longitude, dropoff_latitude, passenger_count, year, month, day, weekday, hour]\n",
      "Index: []\n"
     ]
    }
   ],
   "source": [
    "print(train[train['dropoff_longitude']<-180])\n",
    "print(train[train['dropoff_longitude']>180])"
   ]
  },
  {
   "cell_type": "code",
   "execution_count": 219,
   "metadata": {},
   "outputs": [],
   "source": [
    "#删除错误值\n",
    "train.drop(train[(train['dropoff_longitude']<-180) | (train['dropoff_longitude']>180)].index, axis=0, inplace=True)"
   ]
  },
  {
   "cell_type": "code",
   "execution_count": 220,
   "metadata": {},
   "outputs": [
    {
     "data": {
      "text/plain": [
       "(1999824, 13)"
      ]
     },
     "execution_count": 220,
     "metadata": {},
     "output_type": "execute_result"
    }
   ],
   "source": [
    "train.shape"
   ]
  },
  {
   "cell_type": "markdown",
   "metadata": {},
   "source": [
    "### 1.2.3乘客数量应正常"
   ]
  },
  {
   "cell_type": "code",
   "execution_count": 221,
   "metadata": {},
   "outputs": [
    {
     "data": {
      "text/plain": [
       "count    1.999824e+06\n",
       "mean     1.684118e+00\n",
       "std      1.314961e+00\n",
       "min      0.000000e+00\n",
       "25%      1.000000e+00\n",
       "50%      1.000000e+00\n",
       "75%      2.000000e+00\n",
       "max      2.080000e+02\n",
       "Name: passenger_count, dtype: float64"
      ]
     },
     "execution_count": 221,
     "metadata": {},
     "output_type": "execute_result"
    }
   ],
   "source": [
    "train['passenger_count'].describe()"
   ]
  },
  {
   "cell_type": "code",
   "execution_count": 222,
   "metadata": {},
   "outputs": [
    {
     "data": {
      "text/plain": [
       "Text(0, 0.5, 'Frequency')"
      ]
     },
     "execution_count": 222,
     "metadata": {},
     "output_type": "execute_result"
    },
    {
     "data": {
      "image/png": "[encoded data removed]",
      "text/plain": [
       "<Figure size 1152x576 with 1 Axes>"
      ]
     },
     "metadata": {
      "needs_background": "light"
     },
     "output_type": "display_data"
    }
   ],
   "source": [
    "#可视化分布\n",
    "train.passenger_count.hist(bins=100,figsize = (16,8))\n",
    "plt.xlabel(\"passenger_count\")\n",
    "plt.ylabel(\"Frequency\")"
   ]
  },
  {
   "cell_type": "code",
   "execution_count": 223,
   "metadata": {},
   "outputs": [
    {
     "data": {
      "text/plain": [
       "Text(0, 0.5, 'Frequency')"
      ]
     },
     "execution_count": 223,
     "metadata": {},
     "output_type": "execute_result"
    },
    {
     "data": {
      "image/png": "[encoded data removed]",
      "text/plain": [
       "<Figure size 1152x576 with 1 Axes>"
      ]
     },
     "metadata": {
      "needs_background": "light"
     },
     "output_type": "display_data"
    }
   ],
   "source": [
    "#放大观察\n",
    "train[train.passenger_count<10].passenger_count.hist(bins=10,figsize = (16,8))\n",
    "plt.xlabel(\"passenger_count\")\n",
    "plt.ylabel(\"Frequency\")"
   ]
  },
  {
   "cell_type": "code",
   "execution_count": 224,
   "metadata": {},
   "outputs": [
    {
     "data": {
      "text/plain": [
       "Text(0, 0.5, 'Frequency')"
      ]
     },
     "execution_count": 224,
     "metadata": {},
     "output_type": "execute_result"
    },
    {
     "data": {
      "image/png": "[encoded data removed]",
      "text/plain": [
       "<Figure size 1152x576 with 1 Axes>"
      ]
     },
     "metadata": {
      "needs_background": "light"
     },
     "output_type": "display_data"
    }
   ],
   "source": [
    "train[train.passenger_count >= 10].passenger_count.hist(bins=10,figsize = (16,8))\n",
    "plt.xlabel(\"passenger_count\")\n",
    "plt.ylabel(\"Frequency\")"
   ]
  },
  {
   "cell_type": "code",
   "execution_count": 225,
   "metadata": {},
   "outputs": [
    {
     "data": {
      "text/plain": [
       "(1, 13)"
      ]
     },
     "execution_count": 225,
     "metadata": {},
     "output_type": "execute_result"
    }
   ],
   "source": [
    "train[train.passenger_count >10].shape"
   ]
  },
  {
   "cell_type": "code",
   "execution_count": 226,
   "metadata": {},
   "outputs": [
    {
     "data": {
      "text/html": [
       "<div>\n",
       "<style scoped>\n",
       "    .dataframe tbody tr th:only-of-type {\n",
       "        vertical-align: middle;\n",
       "    }\n",
       "\n",
       "    .dataframe tbody tr th {\n",
       "        vertical-align: top;\n",
       "    }\n",
       "\n",
       "    .dataframe thead th {\n",
       "        text-align: right;\n",
       "    }\n",
       "</style>\n",
       "<table border=\"1\" class=\"dataframe\">\n",
       "  <thead>\n",
       "    <tr style=\"text-align: right;\">\n",
       "      <th></th>\n",
       "      <th>key</th>\n",
       "      <th>fare_amount</th>\n",
       "      <th>pickup_datetime</th>\n",
       "      <th>pickup_longitude</th>\n",
       "      <th>pickup_latitude</th>\n",
       "      <th>dropoff_longitude</th>\n",
       "      <th>dropoff_latitude</th>\n",
       "      <th>passenger_count</th>\n",
       "      <th>year</th>\n",
       "      <th>month</th>\n",
       "      <th>day</th>\n",
       "      <th>weekday</th>\n",
       "      <th>hour</th>\n",
       "    </tr>\n",
       "  </thead>\n",
       "  <tbody>\n",
       "    <tr>\n",
       "      <td>929022</td>\n",
       "      <td>2009-07-30 11:54:00.000000193</td>\n",
       "      <td>3.3</td>\n",
       "      <td>2009-07-30 11:54:00+00:00</td>\n",
       "      <td>0.0</td>\n",
       "      <td>0.0</td>\n",
       "      <td>0.0</td>\n",
       "      <td>0.0</td>\n",
       "      <td>208</td>\n",
       "      <td>2009</td>\n",
       "      <td>7</td>\n",
       "      <td>30</td>\n",
       "      <td>3</td>\n",
       "      <td>11</td>\n",
       "    </tr>\n",
       "  </tbody>\n",
       "</table>\n",
       "</div>"
      ],
      "text/plain": [
       "                                 key  fare_amount           pickup_datetime  \\\n",
       "929022 2009-07-30 11:54:00.000000193          3.3 2009-07-30 11:54:00+00:00   \n",
       "\n",
       "        pickup_longitude  pickup_latitude  dropoff_longitude  \\\n",
       "929022               0.0              0.0                0.0   \n",
       "\n",
       "        dropoff_latitude  passenger_count  year  month  day  weekday  hour  \n",
       "929022               0.0              208  2009      7   30        3    11  "
      ]
     },
     "execution_count": 226,
     "metadata": {},
     "output_type": "execute_result"
    }
   ],
   "source": [
    "train[train.passenger_count >10]"
   ]
  },
  {
   "cell_type": "code",
   "execution_count": 227,
   "metadata": {},
   "outputs": [],
   "source": [
    "#删除离异值\n",
    "train.drop(train[train['passenger_count']>6].index, axis=0, inplace=True)"
   ]
  },
  {
   "cell_type": "code",
   "execution_count": 228,
   "metadata": {},
   "outputs": [
    {
     "data": {
      "text/plain": [
       "(1999822, 13)"
      ]
     },
     "execution_count": 228,
     "metadata": {},
     "output_type": "execute_result"
    }
   ],
   "source": [
    "train.shape"
   ]
  },
  {
   "cell_type": "code",
   "execution_count": 229,
   "metadata": {},
   "outputs": [
    {
     "data": {
      "text/plain": [
       "(7109, 13)"
      ]
     },
     "execution_count": 229,
     "metadata": {},
     "output_type": "execute_result"
    }
   ],
   "source": [
    "#乘客为0的记录\n",
    "train[train.passenger_count ==0].shape"
   ]
  },
  {
   "cell_type": "markdown",
   "metadata": {},
   "source": [
    "### 1.2.4相关性分析(略)"
   ]
  },
  {
   "cell_type": "code",
   "execution_count": 230,
   "metadata": {},
   "outputs": [
    {
     "data": {
      "image/png": "[encoded data removed]",
      "text/plain": [
       "<Figure size 432x288 with 1 Axes>"
      ]
     },
     "metadata": {
      "needs_background": "light"
     },
     "output_type": "display_data"
    }
   ],
   "source": [
    "plot = train.iloc[:2000].plot.scatter('passenger_count', 'fare_amount')"
   ]
  },
  {
   "cell_type": "markdown",
   "metadata": {},
   "source": [
    "## 1.3数据处理计算"
   ]
  },
  {
   "cell_type": "markdown",
   "metadata": {},
   "source": [
    "### 1.3.1框定范围（类似欠抽样）"
   ]
  },
  {
   "cell_type": "code",
   "execution_count": 231,
   "metadata": {},
   "outputs": [
    {
     "name": "stdout",
     "output_type": "stream",
     "text": [
      "纬度最小值： 40.568973\n",
      "纬度最大值： 41.709555\n",
      "经度最小值： -74.263242\n",
      "经度最大值： -72.986532\n"
     ]
    }
   ],
   "source": [
    "#确定测试集范围\n",
    "print(\"纬度最小值：\",\n",
    "      min(test.pickup_latitude.min(), test.dropoff_latitude.min()))\n",
    "print(\"纬度最大值：\",\n",
    "     max(test.pickup_latitude.max(), test.dropoff_latitude.max()))\n",
    "print(\"经度最小值：\",\n",
    "     min(test.pickup_longitude.min(), test.dropoff_longitude.min()))\n",
    "print(\"经度最大值：\",\n",
    "     max(test.pickup_longitude.max(), test.dropoff_longitude.max()))"
   ]
  },
  {
   "cell_type": "code",
   "execution_count": 232,
   "metadata": {},
   "outputs": [],
   "source": [
    "#选取经度-74.263242至-72.986532，纬度40.568973至41.709555\n",
    "#范围内记录作为训练集\n",
    "def select_within_boundingbox(df, BB):\n",
    "    return (df.pickup_longitude >= BB[0]) & (df.pickup_longitude <= BB[1]) & \\\n",
    "           (df.pickup_latitude >= BB[2]) & (df.pickup_latitude <= BB[3]) & \\\n",
    "           (df.dropoff_longitude >= BB[0]) & (df.dropoff_longitude <= BB[1]) & \\\n",
    "           (df.dropoff_latitude >= BB[2]) & (df.dropoff_latitude <= BB[3])\n",
    "BB = (-74.5, -72.8, 40.5, 41.8)\n",
    "train = train[select_within_boundingbox(train, BB)]"
   ]
  },
  {
   "cell_type": "code",
   "execution_count": 233,
   "metadata": {},
   "outputs": [
    {
     "data": {
      "text/plain": [
       "(1957917, 13)"
      ]
     },
     "execution_count": 233,
     "metadata": {},
     "output_type": "execute_result"
    }
   ],
   "source": [
    "train.shape"
   ]
  },
  {
   "cell_type": "markdown",
   "metadata": {},
   "source": [
    "### 1.3.2计算上下车地点间距离"
   ]
  },
  {
   "cell_type": "code",
   "execution_count": 234,
   "metadata": {},
   "outputs": [
    {
     "data": {
      "text/plain": [
       "0        2.323260\n",
       "1        2.425353\n",
       "2        0.618628\n",
       "3        1.961033\n",
       "4        5.387301\n",
       "          ...    \n",
       "9909     2.124874\n",
       "9910     3.270969\n",
       "9911    19.183941\n",
       "9912     8.343486\n",
       "9913     1.180825\n",
       "Length: 9914, dtype: float64"
      ]
     },
     "execution_count": 234,
     "metadata": {},
     "output_type": "execute_result"
    }
   ],
   "source": [
    "#半正矢公式（Haversine Equation）计算两经纬度点间距离\n",
    "#地球平均半径=6371KM\n",
    "def distance(lat1, long1, lat2, long2):\n",
    "    data = [train, test]\n",
    "    for i in data:\n",
    "        R = 6371  # 地球半径（单位：千米）\n",
    "        phi1 = np.radians(i[lat1])\n",
    "        phi2 = np.radians(i[lat2])\n",
    "\n",
    "        delta_phi = np.radians(i[lat2] - i[lat1])\n",
    "        delta_lambda = np.radians(i[long2] - i[long1])\n",
    "\n",
    "        # a = sin²((φB - φA)/2) + cos φA . cos φB . sin²((λB - λA)/2)\n",
    "        a = np.sin(delta_phi / 2.0) ** 2 + np.cos(phi1) * np.cos(phi2) * np.sin(delta_lambda / 2.0) ** 2\n",
    "\n",
    "        # c = 2 * atan2( √a, √(1−a) )\n",
    "        c = 2 * np.arctan2(np.sqrt(a), np.sqrt(1 - a))\n",
    "\n",
    "        # d = R*c\n",
    "        d = (R * c)  # 单位：千米\n",
    "        i['H_Distance'] = d\n",
    "    return d\n",
    "\n",
    "distance('pickup_latitude','pickup_longitude','dropoff_latitude','dropoff_longitude')"
   ]
  },
  {
   "cell_type": "code",
   "execution_count": 235,
   "metadata": {},
   "outputs": [
    {
     "name": "stdout",
     "output_type": "stream",
     "text": [
      "(1957917, 14)\n",
      "(9914, 13)\n"
     ]
    }
   ],
   "source": [
    "print(train.shape)\n",
    "print(test.shape)"
   ]
  },
  {
   "cell_type": "code",
   "execution_count": 236,
   "metadata": {},
   "outputs": [
    {
     "data": {
      "text/html": [
       "<div>\n",
       "<style scoped>\n",
       "    .dataframe tbody tr th:only-of-type {\n",
       "        vertical-align: middle;\n",
       "    }\n",
       "\n",
       "    .dataframe tbody tr th {\n",
       "        vertical-align: top;\n",
       "    }\n",
       "\n",
       "    .dataframe thead th {\n",
       "        text-align: right;\n",
       "    }\n",
       "</style>\n",
       "<table border=\"1\" class=\"dataframe\">\n",
       "  <thead>\n",
       "    <tr style=\"text-align: right;\">\n",
       "      <th></th>\n",
       "      <th>key</th>\n",
       "      <th>fare_amount</th>\n",
       "      <th>pickup_datetime</th>\n",
       "      <th>pickup_longitude</th>\n",
       "      <th>pickup_latitude</th>\n",
       "      <th>dropoff_longitude</th>\n",
       "      <th>dropoff_latitude</th>\n",
       "      <th>passenger_count</th>\n",
       "      <th>year</th>\n",
       "      <th>month</th>\n",
       "      <th>day</th>\n",
       "      <th>weekday</th>\n",
       "      <th>hour</th>\n",
       "      <th>H_Distance</th>\n",
       "    </tr>\n",
       "  </thead>\n",
       "  <tbody>\n",
       "    <tr>\n",
       "      <td>0</td>\n",
       "      <td>2009-06-15 17:26:21.000000100</td>\n",
       "      <td>4.5</td>\n",
       "      <td>2009-06-15 17:26:21+00:00</td>\n",
       "      <td>-73.844311</td>\n",
       "      <td>40.721319</td>\n",
       "      <td>-73.841610</td>\n",
       "      <td>40.712278</td>\n",
       "      <td>1</td>\n",
       "      <td>2009</td>\n",
       "      <td>6</td>\n",
       "      <td>15</td>\n",
       "      <td>0</td>\n",
       "      <td>17</td>\n",
       "      <td>1.030764</td>\n",
       "    </tr>\n",
       "    <tr>\n",
       "      <td>1</td>\n",
       "      <td>2010-01-05 16:52:16.000000200</td>\n",
       "      <td>16.9</td>\n",
       "      <td>2010-01-05 16:52:16+00:00</td>\n",
       "      <td>-74.016048</td>\n",
       "      <td>40.711303</td>\n",
       "      <td>-73.979268</td>\n",
       "      <td>40.782004</td>\n",
       "      <td>1</td>\n",
       "      <td>2010</td>\n",
       "      <td>1</td>\n",
       "      <td>5</td>\n",
       "      <td>1</td>\n",
       "      <td>16</td>\n",
       "      <td>8.450134</td>\n",
       "    </tr>\n",
       "    <tr>\n",
       "      <td>2</td>\n",
       "      <td>2011-08-18 00:35:00.000000490</td>\n",
       "      <td>5.7</td>\n",
       "      <td>2011-08-18 00:35:00+00:00</td>\n",
       "      <td>-73.982738</td>\n",
       "      <td>40.761270</td>\n",
       "      <td>-73.991242</td>\n",
       "      <td>40.750562</td>\n",
       "      <td>2</td>\n",
       "      <td>2011</td>\n",
       "      <td>8</td>\n",
       "      <td>18</td>\n",
       "      <td>3</td>\n",
       "      <td>0</td>\n",
       "      <td>1.389525</td>\n",
       "    </tr>\n",
       "    <tr>\n",
       "      <td>3</td>\n",
       "      <td>2012-04-21 04:30:42.000000100</td>\n",
       "      <td>7.7</td>\n",
       "      <td>2012-04-21 04:30:42+00:00</td>\n",
       "      <td>-73.987130</td>\n",
       "      <td>40.733143</td>\n",
       "      <td>-73.991567</td>\n",
       "      <td>40.758092</td>\n",
       "      <td>1</td>\n",
       "      <td>2012</td>\n",
       "      <td>4</td>\n",
       "      <td>21</td>\n",
       "      <td>5</td>\n",
       "      <td>4</td>\n",
       "      <td>2.799270</td>\n",
       "    </tr>\n",
       "    <tr>\n",
       "      <td>4</td>\n",
       "      <td>2010-03-09 07:51:00.000000135</td>\n",
       "      <td>5.3</td>\n",
       "      <td>2010-03-09 07:51:00+00:00</td>\n",
       "      <td>-73.968095</td>\n",
       "      <td>40.768008</td>\n",
       "      <td>-73.956655</td>\n",
       "      <td>40.783762</td>\n",
       "      <td>1</td>\n",
       "      <td>2010</td>\n",
       "      <td>3</td>\n",
       "      <td>9</td>\n",
       "      <td>1</td>\n",
       "      <td>7</td>\n",
       "      <td>1.999157</td>\n",
       "    </tr>\n",
       "  </tbody>\n",
       "</table>\n",
       "</div>"
      ],
      "text/plain": [
       "                            key  fare_amount           pickup_datetime  \\\n",
       "0 2009-06-15 17:26:21.000000100          4.5 2009-06-15 17:26:21+00:00   \n",
       "1 2010-01-05 16:52:16.000000200         16.9 2010-01-05 16:52:16+00:00   \n",
       "2 2011-08-18 00:35:00.000000490          5.7 2011-08-18 00:35:00+00:00   \n",
       "3 2012-04-21 04:30:42.000000100          7.7 2012-04-21 04:30:42+00:00   \n",
       "4 2010-03-09 07:51:00.000000135          5.3 2010-03-09 07:51:00+00:00   \n",
       "\n",
       "   pickup_longitude  pickup_latitude  dropoff_longitude  dropoff_latitude  \\\n",
       "0        -73.844311        40.721319         -73.841610         40.712278   \n",
       "1        -74.016048        40.711303         -73.979268         40.782004   \n",
       "2        -73.982738        40.761270         -73.991242         40.750562   \n",
       "3        -73.987130        40.733143         -73.991567         40.758092   \n",
       "4        -73.968095        40.768008         -73.956655         40.783762   \n",
       "\n",
       "   passenger_count  year  month  day  weekday  hour  H_Distance  \n",
       "0                1  2009      6   15        0    17    1.030764  \n",
       "1                1  2010      1    5        1    16    8.450134  \n",
       "2                2  2011      8   18        3     0    1.389525  \n",
       "3                1  2012      4   21        5     4    2.799270  \n",
       "4                1  2010      3    9        1     7    1.999157  "
      ]
     },
     "execution_count": 236,
     "metadata": {},
     "output_type": "execute_result"
    }
   ],
   "source": [
    "train.head()"
   ]
  },
  {
   "cell_type": "code",
   "execution_count": 237,
   "metadata": {},
   "outputs": [
    {
     "data": {
      "text/html": [
       "<div>\n",
       "<style scoped>\n",
       "    .dataframe tbody tr th:only-of-type {\n",
       "        vertical-align: middle;\n",
       "    }\n",
       "\n",
       "    .dataframe tbody tr th {\n",
       "        vertical-align: top;\n",
       "    }\n",
       "\n",
       "    .dataframe thead th {\n",
       "        text-align: right;\n",
       "    }\n",
       "</style>\n",
       "<table border=\"1\" class=\"dataframe\">\n",
       "  <thead>\n",
       "    <tr style=\"text-align: right;\">\n",
       "      <th></th>\n",
       "      <th>key</th>\n",
       "      <th>pickup_datetime</th>\n",
       "      <th>pickup_longitude</th>\n",
       "      <th>pickup_latitude</th>\n",
       "      <th>dropoff_longitude</th>\n",
       "      <th>dropoff_latitude</th>\n",
       "      <th>passenger_count</th>\n",
       "      <th>year</th>\n",
       "      <th>month</th>\n",
       "      <th>day</th>\n",
       "      <th>weekday</th>\n",
       "      <th>hour</th>\n",
       "      <th>H_Distance</th>\n",
       "    </tr>\n",
       "  </thead>\n",
       "  <tbody>\n",
       "    <tr>\n",
       "      <td>0</td>\n",
       "      <td>2015-01-27 13:08:24.000000200</td>\n",
       "      <td>2015-01-27 13:08:24+00:00</td>\n",
       "      <td>-73.973320</td>\n",
       "      <td>40.763805</td>\n",
       "      <td>-73.981430</td>\n",
       "      <td>40.743835</td>\n",
       "      <td>1</td>\n",
       "      <td>2015</td>\n",
       "      <td>1</td>\n",
       "      <td>27</td>\n",
       "      <td>1</td>\n",
       "      <td>13</td>\n",
       "      <td>2.323260</td>\n",
       "    </tr>\n",
       "    <tr>\n",
       "      <td>1</td>\n",
       "      <td>2015-01-27 13:08:24.000000300</td>\n",
       "      <td>2015-01-27 13:08:24+00:00</td>\n",
       "      <td>-73.986862</td>\n",
       "      <td>40.719383</td>\n",
       "      <td>-73.998886</td>\n",
       "      <td>40.739201</td>\n",
       "      <td>1</td>\n",
       "      <td>2015</td>\n",
       "      <td>1</td>\n",
       "      <td>27</td>\n",
       "      <td>1</td>\n",
       "      <td>13</td>\n",
       "      <td>2.425353</td>\n",
       "    </tr>\n",
       "    <tr>\n",
       "      <td>2</td>\n",
       "      <td>2011-10-08 11:53:44.000000200</td>\n",
       "      <td>2011-10-08 11:53:44+00:00</td>\n",
       "      <td>-73.982524</td>\n",
       "      <td>40.751260</td>\n",
       "      <td>-73.979654</td>\n",
       "      <td>40.746139</td>\n",
       "      <td>1</td>\n",
       "      <td>2011</td>\n",
       "      <td>10</td>\n",
       "      <td>8</td>\n",
       "      <td>5</td>\n",
       "      <td>11</td>\n",
       "      <td>0.618628</td>\n",
       "    </tr>\n",
       "    <tr>\n",
       "      <td>3</td>\n",
       "      <td>2012-12-01 21:12:12.000000200</td>\n",
       "      <td>2012-12-01 21:12:12+00:00</td>\n",
       "      <td>-73.981160</td>\n",
       "      <td>40.767807</td>\n",
       "      <td>-73.990448</td>\n",
       "      <td>40.751635</td>\n",
       "      <td>1</td>\n",
       "      <td>2012</td>\n",
       "      <td>12</td>\n",
       "      <td>1</td>\n",
       "      <td>5</td>\n",
       "      <td>21</td>\n",
       "      <td>1.961033</td>\n",
       "    </tr>\n",
       "    <tr>\n",
       "      <td>4</td>\n",
       "      <td>2012-12-01 21:12:12.000000300</td>\n",
       "      <td>2012-12-01 21:12:12+00:00</td>\n",
       "      <td>-73.966046</td>\n",
       "      <td>40.789775</td>\n",
       "      <td>-73.988565</td>\n",
       "      <td>40.744427</td>\n",
       "      <td>1</td>\n",
       "      <td>2012</td>\n",
       "      <td>12</td>\n",
       "      <td>1</td>\n",
       "      <td>5</td>\n",
       "      <td>21</td>\n",
       "      <td>5.387301</td>\n",
       "    </tr>\n",
       "  </tbody>\n",
       "</table>\n",
       "</div>"
      ],
      "text/plain": [
       "                            key           pickup_datetime  pickup_longitude  \\\n",
       "0 2015-01-27 13:08:24.000000200 2015-01-27 13:08:24+00:00        -73.973320   \n",
       "1 2015-01-27 13:08:24.000000300 2015-01-27 13:08:24+00:00        -73.986862   \n",
       "2 2011-10-08 11:53:44.000000200 2011-10-08 11:53:44+00:00        -73.982524   \n",
       "3 2012-12-01 21:12:12.000000200 2012-12-01 21:12:12+00:00        -73.981160   \n",
       "4 2012-12-01 21:12:12.000000300 2012-12-01 21:12:12+00:00        -73.966046   \n",
       "\n",
       "   pickup_latitude  dropoff_longitude  dropoff_latitude  passenger_count  \\\n",
       "0        40.763805         -73.981430         40.743835                1   \n",
       "1        40.719383         -73.998886         40.739201                1   \n",
       "2        40.751260         -73.979654         40.746139                1   \n",
       "3        40.767807         -73.990448         40.751635                1   \n",
       "4        40.789775         -73.988565         40.744427                1   \n",
       "\n",
       "   year  month  day  weekday  hour  H_Distance  \n",
       "0  2015      1   27        1    13    2.323260  \n",
       "1  2015      1   27        1    13    2.425353  \n",
       "2  2011     10    8        5    11    0.618628  \n",
       "3  2012     12    1        5    21    1.961033  \n",
       "4  2012     12    1        5    21    5.387301  "
      ]
     },
     "execution_count": 237,
     "metadata": {},
     "output_type": "execute_result"
    }
   ],
   "source": [
    "test.head()"
   ]
  },
  {
   "cell_type": "code",
   "execution_count": 238,
   "metadata": {},
   "outputs": [
    {
     "data": {
      "text/html": [
       "<div>\n",
       "<style scoped>\n",
       "    .dataframe tbody tr th:only-of-type {\n",
       "        vertical-align: middle;\n",
       "    }\n",
       "\n",
       "    .dataframe tbody tr th {\n",
       "        vertical-align: top;\n",
       "    }\n",
       "\n",
       "    .dataframe thead th {\n",
       "        text-align: right;\n",
       "    }\n",
       "</style>\n",
       "<table border=\"1\" class=\"dataframe\">\n",
       "  <thead>\n",
       "    <tr style=\"text-align: right;\">\n",
       "      <th></th>\n",
       "      <th>key</th>\n",
       "      <th>fare_amount</th>\n",
       "      <th>pickup_datetime</th>\n",
       "      <th>pickup_longitude</th>\n",
       "      <th>pickup_latitude</th>\n",
       "      <th>dropoff_longitude</th>\n",
       "      <th>dropoff_latitude</th>\n",
       "      <th>passenger_count</th>\n",
       "      <th>year</th>\n",
       "      <th>month</th>\n",
       "      <th>day</th>\n",
       "      <th>weekday</th>\n",
       "      <th>hour</th>\n",
       "      <th>H_Distance</th>\n",
       "    </tr>\n",
       "  </thead>\n",
       "  <tbody>\n",
       "    <tr>\n",
       "      <td>331597</td>\n",
       "      <td>2013-08-05 06:45:54.000000500</td>\n",
       "      <td>0.0</td>\n",
       "      <td>2013-08-05 06:45:54+00:00</td>\n",
       "      <td>-73.982354</td>\n",
       "      <td>40.679971</td>\n",
       "      <td>-73.982354</td>\n",
       "      <td>40.679971</td>\n",
       "      <td>1</td>\n",
       "      <td>2013</td>\n",
       "      <td>8</td>\n",
       "      <td>5</td>\n",
       "      <td>0</td>\n",
       "      <td>6</td>\n",
       "      <td>0.0</td>\n",
       "    </tr>\n",
       "    <tr>\n",
       "      <td>436658</td>\n",
       "      <td>2015-03-04 22:33:39.000000800</td>\n",
       "      <td>0.0</td>\n",
       "      <td>2015-03-04 22:33:39+00:00</td>\n",
       "      <td>-74.043442</td>\n",
       "      <td>40.788208</td>\n",
       "      <td>-74.043442</td>\n",
       "      <td>40.788208</td>\n",
       "      <td>1</td>\n",
       "      <td>2015</td>\n",
       "      <td>3</td>\n",
       "      <td>4</td>\n",
       "      <td>2</td>\n",
       "      <td>22</td>\n",
       "      <td>0.0</td>\n",
       "    </tr>\n",
       "    <tr>\n",
       "      <td>689250</td>\n",
       "      <td>2015-05-27 23:10:03.000000400</td>\n",
       "      <td>0.0</td>\n",
       "      <td>2015-05-27 23:10:03+00:00</td>\n",
       "      <td>-73.994125</td>\n",
       "      <td>40.741131</td>\n",
       "      <td>-73.994125</td>\n",
       "      <td>40.741131</td>\n",
       "      <td>1</td>\n",
       "      <td>2015</td>\n",
       "      <td>5</td>\n",
       "      <td>27</td>\n",
       "      <td>2</td>\n",
       "      <td>23</td>\n",
       "      <td>0.0</td>\n",
       "    </tr>\n",
       "    <tr>\n",
       "      <td>1662545</td>\n",
       "      <td>2010-03-13 02:39:29.000000100</td>\n",
       "      <td>0.0</td>\n",
       "      <td>2010-03-13 02:39:29+00:00</td>\n",
       "      <td>-74.035278</td>\n",
       "      <td>40.738683</td>\n",
       "      <td>-74.035278</td>\n",
       "      <td>40.738683</td>\n",
       "      <td>2</td>\n",
       "      <td>2010</td>\n",
       "      <td>3</td>\n",
       "      <td>13</td>\n",
       "      <td>5</td>\n",
       "      <td>2</td>\n",
       "      <td>0.0</td>\n",
       "    </tr>\n",
       "  </tbody>\n",
       "</table>\n",
       "</div>"
      ],
      "text/plain": [
       "                                  key  fare_amount           pickup_datetime  \\\n",
       "331597  2013-08-05 06:45:54.000000500          0.0 2013-08-05 06:45:54+00:00   \n",
       "436658  2015-03-04 22:33:39.000000800          0.0 2015-03-04 22:33:39+00:00   \n",
       "689250  2015-05-27 23:10:03.000000400          0.0 2015-05-27 23:10:03+00:00   \n",
       "1662545 2010-03-13 02:39:29.000000100          0.0 2010-03-13 02:39:29+00:00   \n",
       "\n",
       "         pickup_longitude  pickup_latitude  dropoff_longitude  \\\n",
       "331597         -73.982354        40.679971         -73.982354   \n",
       "436658         -74.043442        40.788208         -74.043442   \n",
       "689250         -73.994125        40.741131         -73.994125   \n",
       "1662545        -74.035278        40.738683         -74.035278   \n",
       "\n",
       "         dropoff_latitude  passenger_count  year  month  day  weekday  hour  \\\n",
       "331597          40.679971                1  2013      8    5        0     6   \n",
       "436658          40.788208                1  2015      3    4        2    22   \n",
       "689250          40.741131                1  2015      5   27        2    23   \n",
       "1662545         40.738683                2  2010      3   13        5     2   \n",
       "\n",
       "         H_Distance  \n",
       "331597          0.0  \n",
       "436658          0.0  \n",
       "689250          0.0  \n",
       "1662545         0.0  "
      ]
     },
     "execution_count": 238,
     "metadata": {},
     "output_type": "execute_result"
    }
   ],
   "source": [
    "#车费与距离均为0的无用数据\n",
    "train[(train['H_Distance']==0)&(train['fare_amount']==0)]"
   ]
  },
  {
   "cell_type": "code",
   "execution_count": 239,
   "metadata": {},
   "outputs": [],
   "source": [
    "#删除车费与距离均为0的无用数据\n",
    "train = train.drop(index= train[(train['H_Distance']==0)&(train['fare_amount']==0)].index, axis=0)"
   ]
  },
  {
   "cell_type": "code",
   "execution_count": 240,
   "metadata": {},
   "outputs": [
    {
     "name": "stdout",
     "output_type": "stream",
     "text": [
      "(1957913, 14)\n"
     ]
    }
   ],
   "source": [
    "print(train.shape)"
   ]
  },
  {
   "cell_type": "markdown",
   "metadata": {},
   "source": [
    "# 3.数据建模"
   ]
  },
  {
   "cell_type": "markdown",
   "metadata": {},
   "source": [
    "## 3.1处理后数据"
   ]
  },
  {
   "cell_type": "code",
   "execution_count": 241,
   "metadata": {
    "scrolled": true
   },
   "outputs": [
    {
     "data": {
      "text/html": [
       "<div>\n",
       "<style scoped>\n",
       "    .dataframe tbody tr th:only-of-type {\n",
       "        vertical-align: middle;\n",
       "    }\n",
       "\n",
       "    .dataframe tbody tr th {\n",
       "        vertical-align: top;\n",
       "    }\n",
       "\n",
       "    .dataframe thead th {\n",
       "        text-align: right;\n",
       "    }\n",
       "</style>\n",
       "<table border=\"1\" class=\"dataframe\">\n",
       "  <thead>\n",
       "    <tr style=\"text-align: right;\">\n",
       "      <th></th>\n",
       "      <th>key</th>\n",
       "      <th>fare_amount</th>\n",
       "      <th>pickup_datetime</th>\n",
       "      <th>pickup_longitude</th>\n",
       "      <th>pickup_latitude</th>\n",
       "      <th>dropoff_longitude</th>\n",
       "      <th>dropoff_latitude</th>\n",
       "      <th>passenger_count</th>\n",
       "      <th>year</th>\n",
       "      <th>month</th>\n",
       "      <th>day</th>\n",
       "      <th>weekday</th>\n",
       "      <th>hour</th>\n",
       "      <th>H_Distance</th>\n",
       "    </tr>\n",
       "  </thead>\n",
       "  <tbody>\n",
       "    <tr>\n",
       "      <td>0</td>\n",
       "      <td>2009-06-15 17:26:21.000000100</td>\n",
       "      <td>4.5</td>\n",
       "      <td>2009-06-15 17:26:21+00:00</td>\n",
       "      <td>-73.844311</td>\n",
       "      <td>40.721319</td>\n",
       "      <td>-73.841610</td>\n",
       "      <td>40.712278</td>\n",
       "      <td>1</td>\n",
       "      <td>2009</td>\n",
       "      <td>6</td>\n",
       "      <td>15</td>\n",
       "      <td>0</td>\n",
       "      <td>17</td>\n",
       "      <td>1.030764</td>\n",
       "    </tr>\n",
       "    <tr>\n",
       "      <td>1</td>\n",
       "      <td>2010-01-05 16:52:16.000000200</td>\n",
       "      <td>16.9</td>\n",
       "      <td>2010-01-05 16:52:16+00:00</td>\n",
       "      <td>-74.016048</td>\n",
       "      <td>40.711303</td>\n",
       "      <td>-73.979268</td>\n",
       "      <td>40.782004</td>\n",
       "      <td>1</td>\n",
       "      <td>2010</td>\n",
       "      <td>1</td>\n",
       "      <td>5</td>\n",
       "      <td>1</td>\n",
       "      <td>16</td>\n",
       "      <td>8.450134</td>\n",
       "    </tr>\n",
       "    <tr>\n",
       "      <td>2</td>\n",
       "      <td>2011-08-18 00:35:00.000000490</td>\n",
       "      <td>5.7</td>\n",
       "      <td>2011-08-18 00:35:00+00:00</td>\n",
       "      <td>-73.982738</td>\n",
       "      <td>40.761270</td>\n",
       "      <td>-73.991242</td>\n",
       "      <td>40.750562</td>\n",
       "      <td>2</td>\n",
       "      <td>2011</td>\n",
       "      <td>8</td>\n",
       "      <td>18</td>\n",
       "      <td>3</td>\n",
       "      <td>0</td>\n",
       "      <td>1.389525</td>\n",
       "    </tr>\n",
       "    <tr>\n",
       "      <td>3</td>\n",
       "      <td>2012-04-21 04:30:42.000000100</td>\n",
       "      <td>7.7</td>\n",
       "      <td>2012-04-21 04:30:42+00:00</td>\n",
       "      <td>-73.987130</td>\n",
       "      <td>40.733143</td>\n",
       "      <td>-73.991567</td>\n",
       "      <td>40.758092</td>\n",
       "      <td>1</td>\n",
       "      <td>2012</td>\n",
       "      <td>4</td>\n",
       "      <td>21</td>\n",
       "      <td>5</td>\n",
       "      <td>4</td>\n",
       "      <td>2.799270</td>\n",
       "    </tr>\n",
       "    <tr>\n",
       "      <td>4</td>\n",
       "      <td>2010-03-09 07:51:00.000000135</td>\n",
       "      <td>5.3</td>\n",
       "      <td>2010-03-09 07:51:00+00:00</td>\n",
       "      <td>-73.968095</td>\n",
       "      <td>40.768008</td>\n",
       "      <td>-73.956655</td>\n",
       "      <td>40.783762</td>\n",
       "      <td>1</td>\n",
       "      <td>2010</td>\n",
       "      <td>3</td>\n",
       "      <td>9</td>\n",
       "      <td>1</td>\n",
       "      <td>7</td>\n",
       "      <td>1.999157</td>\n",
       "    </tr>\n",
       "  </tbody>\n",
       "</table>\n",
       "</div>"
      ],
      "text/plain": [
       "                            key  fare_amount           pickup_datetime  \\\n",
       "0 2009-06-15 17:26:21.000000100          4.5 2009-06-15 17:26:21+00:00   \n",
       "1 2010-01-05 16:52:16.000000200         16.9 2010-01-05 16:52:16+00:00   \n",
       "2 2011-08-18 00:35:00.000000490          5.7 2011-08-18 00:35:00+00:00   \n",
       "3 2012-04-21 04:30:42.000000100          7.7 2012-04-21 04:30:42+00:00   \n",
       "4 2010-03-09 07:51:00.000000135          5.3 2010-03-09 07:51:00+00:00   \n",
       "\n",
       "   pickup_longitude  pickup_latitude  dropoff_longitude  dropoff_latitude  \\\n",
       "0        -73.844311        40.721319         -73.841610         40.712278   \n",
       "1        -74.016048        40.711303         -73.979268         40.782004   \n",
       "2        -73.982738        40.761270         -73.991242         40.750562   \n",
       "3        -73.987130        40.733143         -73.991567         40.758092   \n",
       "4        -73.968095        40.768008         -73.956655         40.783762   \n",
       "\n",
       "   passenger_count  year  month  day  weekday  hour  H_Distance  \n",
       "0                1  2009      6   15        0    17    1.030764  \n",
       "1                1  2010      1    5        1    16    8.450134  \n",
       "2                2  2011      8   18        3     0    1.389525  \n",
       "3                1  2012      4   21        5     4    2.799270  \n",
       "4                1  2010      3    9        1     7    1.999157  "
      ]
     },
     "execution_count": 241,
     "metadata": {},
     "output_type": "execute_result"
    }
   ],
   "source": [
    "train.head()"
   ]
  },
  {
   "cell_type": "code",
   "execution_count": 242,
   "metadata": {},
   "outputs": [
    {
     "data": {
      "text/html": [
       "<div>\n",
       "<style scoped>\n",
       "    .dataframe tbody tr th:only-of-type {\n",
       "        vertical-align: middle;\n",
       "    }\n",
       "\n",
       "    .dataframe tbody tr th {\n",
       "        vertical-align: top;\n",
       "    }\n",
       "\n",
       "    .dataframe thead th {\n",
       "        text-align: right;\n",
       "    }\n",
       "</style>\n",
       "<table border=\"1\" class=\"dataframe\">\n",
       "  <thead>\n",
       "    <tr style=\"text-align: right;\">\n",
       "      <th></th>\n",
       "      <th>key</th>\n",
       "      <th>pickup_datetime</th>\n",
       "      <th>pickup_longitude</th>\n",
       "      <th>pickup_latitude</th>\n",
       "      <th>dropoff_longitude</th>\n",
       "      <th>dropoff_latitude</th>\n",
       "      <th>passenger_count</th>\n",
       "      <th>year</th>\n",
       "      <th>month</th>\n",
       "      <th>day</th>\n",
       "      <th>weekday</th>\n",
       "      <th>hour</th>\n",
       "      <th>H_Distance</th>\n",
       "    </tr>\n",
       "  </thead>\n",
       "  <tbody>\n",
       "    <tr>\n",
       "      <td>0</td>\n",
       "      <td>2015-01-27 13:08:24.000000200</td>\n",
       "      <td>2015-01-27 13:08:24+00:00</td>\n",
       "      <td>-73.973320</td>\n",
       "      <td>40.763805</td>\n",
       "      <td>-73.981430</td>\n",
       "      <td>40.743835</td>\n",
       "      <td>1</td>\n",
       "      <td>2015</td>\n",
       "      <td>1</td>\n",
       "      <td>27</td>\n",
       "      <td>1</td>\n",
       "      <td>13</td>\n",
       "      <td>2.323260</td>\n",
       "    </tr>\n",
       "    <tr>\n",
       "      <td>1</td>\n",
       "      <td>2015-01-27 13:08:24.000000300</td>\n",
       "      <td>2015-01-27 13:08:24+00:00</td>\n",
       "      <td>-73.986862</td>\n",
       "      <td>40.719383</td>\n",
       "      <td>-73.998886</td>\n",
       "      <td>40.739201</td>\n",
       "      <td>1</td>\n",
       "      <td>2015</td>\n",
       "      <td>1</td>\n",
       "      <td>27</td>\n",
       "      <td>1</td>\n",
       "      <td>13</td>\n",
       "      <td>2.425353</td>\n",
       "    </tr>\n",
       "    <tr>\n",
       "      <td>2</td>\n",
       "      <td>2011-10-08 11:53:44.000000200</td>\n",
       "      <td>2011-10-08 11:53:44+00:00</td>\n",
       "      <td>-73.982524</td>\n",
       "      <td>40.751260</td>\n",
       "      <td>-73.979654</td>\n",
       "      <td>40.746139</td>\n",
       "      <td>1</td>\n",
       "      <td>2011</td>\n",
       "      <td>10</td>\n",
       "      <td>8</td>\n",
       "      <td>5</td>\n",
       "      <td>11</td>\n",
       "      <td>0.618628</td>\n",
       "    </tr>\n",
       "    <tr>\n",
       "      <td>3</td>\n",
       "      <td>2012-12-01 21:12:12.000000200</td>\n",
       "      <td>2012-12-01 21:12:12+00:00</td>\n",
       "      <td>-73.981160</td>\n",
       "      <td>40.767807</td>\n",
       "      <td>-73.990448</td>\n",
       "      <td>40.751635</td>\n",
       "      <td>1</td>\n",
       "      <td>2012</td>\n",
       "      <td>12</td>\n",
       "      <td>1</td>\n",
       "      <td>5</td>\n",
       "      <td>21</td>\n",
       "      <td>1.961033</td>\n",
       "    </tr>\n",
       "    <tr>\n",
       "      <td>4</td>\n",
       "      <td>2012-12-01 21:12:12.000000300</td>\n",
       "      <td>2012-12-01 21:12:12+00:00</td>\n",
       "      <td>-73.966046</td>\n",
       "      <td>40.789775</td>\n",
       "      <td>-73.988565</td>\n",
       "      <td>40.744427</td>\n",
       "      <td>1</td>\n",
       "      <td>2012</td>\n",
       "      <td>12</td>\n",
       "      <td>1</td>\n",
       "      <td>5</td>\n",
       "      <td>21</td>\n",
       "      <td>5.387301</td>\n",
       "    </tr>\n",
       "  </tbody>\n",
       "</table>\n",
       "</div>"
      ],
      "text/plain": [
       "                            key           pickup_datetime  pickup_longitude  \\\n",
       "0 2015-01-27 13:08:24.000000200 2015-01-27 13:08:24+00:00        -73.973320   \n",
       "1 2015-01-27 13:08:24.000000300 2015-01-27 13:08:24+00:00        -73.986862   \n",
       "2 2011-10-08 11:53:44.000000200 2011-10-08 11:53:44+00:00        -73.982524   \n",
       "3 2012-12-01 21:12:12.000000200 2012-12-01 21:12:12+00:00        -73.981160   \n",
       "4 2012-12-01 21:12:12.000000300 2012-12-01 21:12:12+00:00        -73.966046   \n",
       "\n",
       "   pickup_latitude  dropoff_longitude  dropoff_latitude  passenger_count  \\\n",
       "0        40.763805         -73.981430         40.743835                1   \n",
       "1        40.719383         -73.998886         40.739201                1   \n",
       "2        40.751260         -73.979654         40.746139                1   \n",
       "3        40.767807         -73.990448         40.751635                1   \n",
       "4        40.789775         -73.988565         40.744427                1   \n",
       "\n",
       "   year  month  day  weekday  hour  H_Distance  \n",
       "0  2015      1   27        1    13    2.323260  \n",
       "1  2015      1   27        1    13    2.425353  \n",
       "2  2011     10    8        5    11    0.618628  \n",
       "3  2012     12    1        5    21    1.961033  \n",
       "4  2012     12    1        5    21    5.387301  "
      ]
     },
     "execution_count": 242,
     "metadata": {},
     "output_type": "execute_result"
    }
   ],
   "source": [
    "test.head()"
   ]
  },
  {
   "cell_type": "code",
   "execution_count": 243,
   "metadata": {
    "scrolled": false
   },
   "outputs": [
    {
     "data": {
      "text/html": [
       "<div>\n",
       "<style scoped>\n",
       "    .dataframe tbody tr th:only-of-type {\n",
       "        vertical-align: middle;\n",
       "    }\n",
       "\n",
       "    .dataframe tbody tr th {\n",
       "        vertical-align: top;\n",
       "    }\n",
       "\n",
       "    .dataframe thead th {\n",
       "        text-align: right;\n",
       "    }\n",
       "</style>\n",
       "<table border=\"1\" class=\"dataframe\">\n",
       "  <thead>\n",
       "    <tr style=\"text-align: right;\">\n",
       "      <th></th>\n",
       "      <th>fare_amount</th>\n",
       "      <th>pickup_longitude</th>\n",
       "      <th>pickup_latitude</th>\n",
       "      <th>dropoff_longitude</th>\n",
       "      <th>dropoff_latitude</th>\n",
       "      <th>passenger_count</th>\n",
       "      <th>year</th>\n",
       "      <th>month</th>\n",
       "      <th>day</th>\n",
       "      <th>weekday</th>\n",
       "      <th>hour</th>\n",
       "      <th>H_Distance</th>\n",
       "    </tr>\n",
       "  </thead>\n",
       "  <tbody>\n",
       "    <tr>\n",
       "      <td>count</td>\n",
       "      <td>1.957913e+06</td>\n",
       "      <td>1.957913e+06</td>\n",
       "      <td>1.957913e+06</td>\n",
       "      <td>1.957913e+06</td>\n",
       "      <td>1.957913e+06</td>\n",
       "      <td>1.957913e+06</td>\n",
       "      <td>1.957913e+06</td>\n",
       "      <td>1.957913e+06</td>\n",
       "      <td>1.957913e+06</td>\n",
       "      <td>1.957913e+06</td>\n",
       "      <td>1.957913e+06</td>\n",
       "      <td>1.957913e+06</td>\n",
       "    </tr>\n",
       "    <tr>\n",
       "      <td>mean</td>\n",
       "      <td>1.132926e+01</td>\n",
       "      <td>-7.397514e+01</td>\n",
       "      <td>4.075107e+01</td>\n",
       "      <td>-7.397426e+01</td>\n",
       "      <td>4.075142e+01</td>\n",
       "      <td>1.684242e+00</td>\n",
       "      <td>2.011737e+03</td>\n",
       "      <td>6.269439e+00</td>\n",
       "      <td>1.570585e+01</td>\n",
       "      <td>3.041280e+00</td>\n",
       "      <td>1.350846e+01</td>\n",
       "      <td>3.328704e+00</td>\n",
       "    </tr>\n",
       "    <tr>\n",
       "      <td>std</td>\n",
       "      <td>9.713679e+00</td>\n",
       "      <td>3.858101e-02</td>\n",
       "      <td>2.958854e-02</td>\n",
       "      <td>3.776649e-02</td>\n",
       "      <td>3.275624e-02</td>\n",
       "      <td>1.306700e+00</td>\n",
       "      <td>1.863395e+00</td>\n",
       "      <td>3.437976e+00</td>\n",
       "      <td>8.682187e+00</td>\n",
       "      <td>1.949914e+00</td>\n",
       "      <td>6.514015e+00</td>\n",
       "      <td>3.777494e+00</td>\n",
       "    </tr>\n",
       "    <tr>\n",
       "      <td>min</td>\n",
       "      <td>0.000000e+00</td>\n",
       "      <td>-7.448963e+01</td>\n",
       "      <td>4.050005e+01</td>\n",
       "      <td>-7.449105e+01</td>\n",
       "      <td>4.050005e+01</td>\n",
       "      <td>0.000000e+00</td>\n",
       "      <td>2.009000e+03</td>\n",
       "      <td>1.000000e+00</td>\n",
       "      <td>1.000000e+00</td>\n",
       "      <td>0.000000e+00</td>\n",
       "      <td>0.000000e+00</td>\n",
       "      <td>0.000000e+00</td>\n",
       "    </tr>\n",
       "    <tr>\n",
       "      <td>25%</td>\n",
       "      <td>6.000000e+00</td>\n",
       "      <td>-7.399229e+01</td>\n",
       "      <td>4.073654e+01</td>\n",
       "      <td>-7.399160e+01</td>\n",
       "      <td>4.073553e+01</td>\n",
       "      <td>1.000000e+00</td>\n",
       "      <td>2.010000e+03</td>\n",
       "      <td>3.000000e+00</td>\n",
       "      <td>8.000000e+00</td>\n",
       "      <td>1.000000e+00</td>\n",
       "      <td>9.000000e+00</td>\n",
       "      <td>1.253438e+00</td>\n",
       "    </tr>\n",
       "    <tr>\n",
       "      <td>50%</td>\n",
       "      <td>8.500000e+00</td>\n",
       "      <td>-7.398210e+01</td>\n",
       "      <td>4.075334e+01</td>\n",
       "      <td>-7.398062e+01</td>\n",
       "      <td>4.075383e+01</td>\n",
       "      <td>1.000000e+00</td>\n",
       "      <td>2.012000e+03</td>\n",
       "      <td>6.000000e+00</td>\n",
       "      <td>1.600000e+01</td>\n",
       "      <td>3.000000e+00</td>\n",
       "      <td>1.400000e+01</td>\n",
       "      <td>2.151907e+00</td>\n",
       "    </tr>\n",
       "    <tr>\n",
       "      <td>75%</td>\n",
       "      <td>1.250000e+01</td>\n",
       "      <td>-7.396834e+01</td>\n",
       "      <td>4.076752e+01</td>\n",
       "      <td>-7.396536e+01</td>\n",
       "      <td>4.076839e+01</td>\n",
       "      <td>2.000000e+00</td>\n",
       "      <td>2.013000e+03</td>\n",
       "      <td>9.000000e+00</td>\n",
       "      <td>2.300000e+01</td>\n",
       "      <td>5.000000e+00</td>\n",
       "      <td>1.900000e+01</td>\n",
       "      <td>3.913830e+00</td>\n",
       "    </tr>\n",
       "    <tr>\n",
       "      <td>max</td>\n",
       "      <td>5.000000e+02</td>\n",
       "      <td>-7.281783e+01</td>\n",
       "      <td>4.169685e+01</td>\n",
       "      <td>-7.281783e+01</td>\n",
       "      <td>4.171463e+01</td>\n",
       "      <td>6.000000e+00</td>\n",
       "      <td>2.015000e+03</td>\n",
       "      <td>1.200000e+01</td>\n",
       "      <td>3.100000e+01</td>\n",
       "      <td>6.000000e+00</td>\n",
       "      <td>2.300000e+01</td>\n",
       "      <td>1.147885e+02</td>\n",
       "    </tr>\n",
       "  </tbody>\n",
       "</table>\n",
       "</div>"
      ],
      "text/plain": [
       "        fare_amount  pickup_longitude  pickup_latitude  dropoff_longitude  \\\n",
       "count  1.957913e+06      1.957913e+06     1.957913e+06       1.957913e+06   \n",
       "mean   1.132926e+01     -7.397514e+01     4.075107e+01      -7.397426e+01   \n",
       "std    9.713679e+00      3.858101e-02     2.958854e-02       3.776649e-02   \n",
       "min    0.000000e+00     -7.448963e+01     4.050005e+01      -7.449105e+01   \n",
       "25%    6.000000e+00     -7.399229e+01     4.073654e+01      -7.399160e+01   \n",
       "50%    8.500000e+00     -7.398210e+01     4.075334e+01      -7.398062e+01   \n",
       "75%    1.250000e+01     -7.396834e+01     4.076752e+01      -7.396536e+01   \n",
       "max    5.000000e+02     -7.281783e+01     4.169685e+01      -7.281783e+01   \n",
       "\n",
       "       dropoff_latitude  passenger_count          year         month  \\\n",
       "count      1.957913e+06     1.957913e+06  1.957913e+06  1.957913e+06   \n",
       "mean       4.075142e+01     1.684242e+00  2.011737e+03  6.269439e+00   \n",
       "std        3.275624e-02     1.306700e+00  1.863395e+00  3.437976e+00   \n",
       "min        4.050005e+01     0.000000e+00  2.009000e+03  1.000000e+00   \n",
       "25%        4.073553e+01     1.000000e+00  2.010000e+03  3.000000e+00   \n",
       "50%        4.075383e+01     1.000000e+00  2.012000e+03  6.000000e+00   \n",
       "75%        4.076839e+01     2.000000e+00  2.013000e+03  9.000000e+00   \n",
       "max        4.171463e+01     6.000000e+00  2.015000e+03  1.200000e+01   \n",
       "\n",
       "                day       weekday          hour    H_Distance  \n",
       "count  1.957913e+06  1.957913e+06  1.957913e+06  1.957913e+06  \n",
       "mean   1.570585e+01  3.041280e+00  1.350846e+01  3.328704e+00  \n",
       "std    8.682187e+00  1.949914e+00  6.514015e+00  3.777494e+00  \n",
       "min    1.000000e+00  0.000000e+00  0.000000e+00  0.000000e+00  \n",
       "25%    8.000000e+00  1.000000e+00  9.000000e+00  1.253438e+00  \n",
       "50%    1.600000e+01  3.000000e+00  1.400000e+01  2.151907e+00  \n",
       "75%    2.300000e+01  5.000000e+00  1.900000e+01  3.913830e+00  \n",
       "max    3.100000e+01  6.000000e+00  2.300000e+01  1.147885e+02  "
      ]
     },
     "execution_count": 243,
     "metadata": {},
     "output_type": "execute_result"
    }
   ],
   "source": [
    "train.describe()"
   ]
  },
  {
   "cell_type": "code",
   "execution_count": 246,
   "metadata": {
    "scrolled": true
   },
   "outputs": [
    {
     "data": {
      "text/html": [
       "<div>\n",
       "<style scoped>\n",
       "    .dataframe tbody tr th:only-of-type {\n",
       "        vertical-align: middle;\n",
       "    }\n",
       "\n",
       "    .dataframe tbody tr th {\n",
       "        vertical-align: top;\n",
       "    }\n",
       "\n",
       "    .dataframe thead th {\n",
       "        text-align: right;\n",
       "    }\n",
       "</style>\n",
       "<table border=\"1\" class=\"dataframe\">\n",
       "  <thead>\n",
       "    <tr style=\"text-align: right;\">\n",
       "      <th></th>\n",
       "      <th>pickup_longitude</th>\n",
       "      <th>pickup_latitude</th>\n",
       "      <th>dropoff_longitude</th>\n",
       "      <th>dropoff_latitude</th>\n",
       "      <th>passenger_count</th>\n",
       "      <th>year</th>\n",
       "      <th>month</th>\n",
       "      <th>day</th>\n",
       "      <th>weekday</th>\n",
       "      <th>hour</th>\n",
       "      <th>H_Distance</th>\n",
       "    </tr>\n",
       "  </thead>\n",
       "  <tbody>\n",
       "    <tr>\n",
       "      <td>count</td>\n",
       "      <td>9914.000000</td>\n",
       "      <td>9914.000000</td>\n",
       "      <td>9914.000000</td>\n",
       "      <td>9914.000000</td>\n",
       "      <td>9914.000000</td>\n",
       "      <td>9914.000000</td>\n",
       "      <td>9914.000000</td>\n",
       "      <td>9914.000000</td>\n",
       "      <td>9914.000000</td>\n",
       "      <td>9914.000000</td>\n",
       "      <td>9914.000000</td>\n",
       "    </tr>\n",
       "    <tr>\n",
       "      <td>mean</td>\n",
       "      <td>-73.974722</td>\n",
       "      <td>40.751041</td>\n",
       "      <td>-73.973657</td>\n",
       "      <td>40.751743</td>\n",
       "      <td>1.671273</td>\n",
       "      <td>2011.815816</td>\n",
       "      <td>6.857979</td>\n",
       "      <td>16.194170</td>\n",
       "      <td>2.852834</td>\n",
       "      <td>13.467420</td>\n",
       "      <td>3.435371</td>\n",
       "    </tr>\n",
       "    <tr>\n",
       "      <td>std</td>\n",
       "      <td>0.042774</td>\n",
       "      <td>0.033541</td>\n",
       "      <td>0.039072</td>\n",
       "      <td>0.035435</td>\n",
       "      <td>1.278747</td>\n",
       "      <td>1.803347</td>\n",
       "      <td>3.353272</td>\n",
       "      <td>8.838482</td>\n",
       "      <td>1.994451</td>\n",
       "      <td>6.868584</td>\n",
       "      <td>3.972374</td>\n",
       "    </tr>\n",
       "    <tr>\n",
       "      <td>min</td>\n",
       "      <td>-74.252193</td>\n",
       "      <td>40.573143</td>\n",
       "      <td>-74.263242</td>\n",
       "      <td>40.568973</td>\n",
       "      <td>1.000000</td>\n",
       "      <td>2009.000000</td>\n",
       "      <td>1.000000</td>\n",
       "      <td>1.000000</td>\n",
       "      <td>0.000000</td>\n",
       "      <td>0.000000</td>\n",
       "      <td>0.000000</td>\n",
       "    </tr>\n",
       "    <tr>\n",
       "      <td>25%</td>\n",
       "      <td>-73.992501</td>\n",
       "      <td>40.736125</td>\n",
       "      <td>-73.991247</td>\n",
       "      <td>40.735254</td>\n",
       "      <td>1.000000</td>\n",
       "      <td>2010.000000</td>\n",
       "      <td>4.000000</td>\n",
       "      <td>9.000000</td>\n",
       "      <td>1.000000</td>\n",
       "      <td>8.000000</td>\n",
       "      <td>1.298277</td>\n",
       "    </tr>\n",
       "    <tr>\n",
       "      <td>50%</td>\n",
       "      <td>-73.982326</td>\n",
       "      <td>40.753051</td>\n",
       "      <td>-73.980015</td>\n",
       "      <td>40.754065</td>\n",
       "      <td>1.000000</td>\n",
       "      <td>2012.000000</td>\n",
       "      <td>7.000000</td>\n",
       "      <td>16.000000</td>\n",
       "      <td>3.000000</td>\n",
       "      <td>15.000000</td>\n",
       "      <td>2.217412</td>\n",
       "    </tr>\n",
       "    <tr>\n",
       "      <td>75%</td>\n",
       "      <td>-73.968013</td>\n",
       "      <td>40.767113</td>\n",
       "      <td>-73.964059</td>\n",
       "      <td>40.768757</td>\n",
       "      <td>2.000000</td>\n",
       "      <td>2014.000000</td>\n",
       "      <td>10.000000</td>\n",
       "      <td>25.000000</td>\n",
       "      <td>5.000000</td>\n",
       "      <td>19.000000</td>\n",
       "      <td>4.045302</td>\n",
       "    </tr>\n",
       "    <tr>\n",
       "      <td>max</td>\n",
       "      <td>-72.986532</td>\n",
       "      <td>41.709555</td>\n",
       "      <td>-72.990963</td>\n",
       "      <td>41.696683</td>\n",
       "      <td>6.000000</td>\n",
       "      <td>2015.000000</td>\n",
       "      <td>12.000000</td>\n",
       "      <td>31.000000</td>\n",
       "      <td>6.000000</td>\n",
       "      <td>23.000000</td>\n",
       "      <td>99.996040</td>\n",
       "    </tr>\n",
       "  </tbody>\n",
       "</table>\n",
       "</div>"
      ],
      "text/plain": [
       "       pickup_longitude  pickup_latitude  dropoff_longitude  dropoff_latitude  \\\n",
       "count       9914.000000      9914.000000        9914.000000       9914.000000   \n",
       "mean         -73.974722        40.751041         -73.973657         40.751743   \n",
       "std            0.042774         0.033541           0.039072          0.035435   \n",
       "min          -74.252193        40.573143         -74.263242         40.568973   \n",
       "25%          -73.992501        40.736125         -73.991247         40.735254   \n",
       "50%          -73.982326        40.753051         -73.980015         40.754065   \n",
       "75%          -73.968013        40.767113         -73.964059         40.768757   \n",
       "max          -72.986532        41.709555         -72.990963         41.696683   \n",
       "\n",
       "       passenger_count         year        month          day      weekday  \\\n",
       "count      9914.000000  9914.000000  9914.000000  9914.000000  9914.000000   \n",
       "mean          1.671273  2011.815816     6.857979    16.194170     2.852834   \n",
       "std           1.278747     1.803347     3.353272     8.838482     1.994451   \n",
       "min           1.000000  2009.000000     1.000000     1.000000     0.000000   \n",
       "25%           1.000000  2010.000000     4.000000     9.000000     1.000000   \n",
       "50%           1.000000  2012.000000     7.000000    16.000000     3.000000   \n",
       "75%           2.000000  2014.000000    10.000000    25.000000     5.000000   \n",
       "max           6.000000  2015.000000    12.000000    31.000000     6.000000   \n",
       "\n",
       "              hour   H_Distance  \n",
       "count  9914.000000  9914.000000  \n",
       "mean     13.467420     3.435371  \n",
       "std       6.868584     3.972374  \n",
       "min       0.000000     0.000000  \n",
       "25%       8.000000     1.298277  \n",
       "50%      15.000000     2.217412  \n",
       "75%      19.000000     4.045302  \n",
       "max      23.000000    99.996040  "
      ]
     },
     "execution_count": 246,
     "metadata": {},
     "output_type": "execute_result"
    }
   ],
   "source": [
    "test.describe()"
   ]
  },
  {
   "cell_type": "code",
   "execution_count": 247,
   "metadata": {
    "scrolled": false
   },
   "outputs": [
    {
     "data": {
      "text/plain": [
       "key                       datetime64[ns]\n",
       "fare_amount                      float64\n",
       "pickup_datetime      datetime64[ns, UTC]\n",
       "pickup_longitude                 float64\n",
       "pickup_latitude                  float64\n",
       "dropoff_longitude                float64\n",
       "dropoff_latitude                 float64\n",
       "passenger_count                    int64\n",
       "year                               int64\n",
       "month                              int64\n",
       "day                                int64\n",
       "weekday                            int64\n",
       "hour                               int64\n",
       "H_Distance                       float64\n",
       "dtype: object"
      ]
     },
     "execution_count": 247,
     "metadata": {},
     "output_type": "execute_result"
    }
   ],
   "source": [
    "train.dtypes"
   ]
  },
  {
   "cell_type": "code",
   "execution_count": 249,
   "metadata": {},
   "outputs": [
    {
     "data": {
      "text/plain": [
       "key                       datetime64[ns]\n",
       "pickup_datetime      datetime64[ns, UTC]\n",
       "pickup_longitude                 float64\n",
       "pickup_latitude                  float64\n",
       "dropoff_longitude                float64\n",
       "dropoff_latitude                 float64\n",
       "passenger_count                    int64\n",
       "year                               int64\n",
       "month                              int64\n",
       "day                                int64\n",
       "weekday                            int64\n",
       "hour                               int64\n",
       "H_Distance                       float64\n",
       "dtype: object"
      ]
     },
     "execution_count": 249,
     "metadata": {},
     "output_type": "execute_result"
    }
   ],
   "source": [
    "test.dtypes"
   ]
  },
  {
   "cell_type": "code",
   "execution_count": null,
   "metadata": {},
   "outputs": [],
   "source": []
  },
  {
   "cell_type": "markdown",
   "metadata": {},
   "source": [
    "## 3.2建模"
   ]
  },
  {
   "cell_type": "code",
   "execution_count": 250,
   "metadata": {},
   "outputs": [
    {
     "name": "stdout",
     "output_type": "stream",
     "text": [
      "(1957913, 4)\n",
      "(1957913,)\n"
     ]
    }
   ],
   "source": [
    "#构建训练集输入矩阵\n",
    "def get_input_matrix(df):\n",
    "    return np.column_stack((df.H_Distance, df.weekday+1, df.passenger_count, np.ones(len(df))))\n",
    "\n",
    "train_X = get_input_matrix(train)\n",
    "train_y = np.array(train['fare_amount'])\n",
    "\n",
    "print(train_X.shape)\n",
    "print(train_y.shape)"
   ]
  },
  {
   "cell_type": "code",
   "execution_count": 251,
   "metadata": {},
   "outputs": [
    {
     "name": "stdout",
     "output_type": "stream",
     "text": [
      "[ 2.09967727 -0.0482673   0.04397827  4.46104772]\n"
     ]
    }
   ],
   "source": [
    "#最小二乘函数\n",
    "(w, _, _, _) = np.linalg.lstsq(train_X, train_y, rcond = None)\n",
    "print(w)"
   ]
  },
  {
   "cell_type": "code",
   "execution_count": 252,
   "metadata": {
    "scrolled": true
   },
   "outputs": [
    {
     "data": {
      "text/plain": [
       "key                       datetime64[ns]\n",
       "pickup_datetime      datetime64[ns, UTC]\n",
       "pickup_longitude                 float64\n",
       "pickup_latitude                  float64\n",
       "dropoff_longitude                float64\n",
       "dropoff_latitude                 float64\n",
       "passenger_count                    int64\n",
       "year                               int64\n",
       "month                              int64\n",
       "day                                int64\n",
       "weekday                            int64\n",
       "hour                               int64\n",
       "H_Distance                       float64\n",
       "dtype: object"
      ]
     },
     "execution_count": 252,
     "metadata": {},
     "output_type": "execute_result"
    }
   ],
   "source": [
    "#测试集\n",
    "test.dtypes"
   ]
  },
  {
   "cell_type": "code",
   "execution_count": 254,
   "metadata": {},
   "outputs": [],
   "source": [
    "#生成测试集矩阵\n",
    "test_X = get_input_matrix(test)\n",
    "#计算预测值\n",
    "test_y_predictions = np.matmul(test_X, w).round(decimals = 2)"
   ]
  },
  {
   "cell_type": "code",
   "execution_count": 255,
   "metadata": {},
   "outputs": [],
   "source": [
    "#输出结果\n",
    "submission = pd.DataFrame(\n",
    "    {'key': test.key, 'fare_amount': test_y_predictions},\n",
    "    columns = ['key', 'fare_amount'])\n",
    "submission.to_csv(\"Data/submission.csv\", index = False)"
   ]
  },
  {
   "cell_type": "code",
   "execution_count": 260,
   "metadata": {},
   "outputs": [
    {
     "data": {
      "text/html": [
       "<div>\n",
       "<style scoped>\n",
       "    .dataframe tbody tr th:only-of-type {\n",
       "        vertical-align: middle;\n",
       "    }\n",
       "\n",
       "    .dataframe tbody tr th {\n",
       "        vertical-align: top;\n",
       "    }\n",
       "\n",
       "    .dataframe thead th {\n",
       "        text-align: right;\n",
       "    }\n",
       "</style>\n",
       "<table border=\"1\" class=\"dataframe\">\n",
       "  <thead>\n",
       "    <tr style=\"text-align: right;\">\n",
       "      <th></th>\n",
       "      <th>key</th>\n",
       "      <th>fare_amount</th>\n",
       "    </tr>\n",
       "  </thead>\n",
       "  <tbody>\n",
       "    <tr>\n",
       "      <td>0</td>\n",
       "      <td>2015-01-27 13:08:24.000000200</td>\n",
       "      <td>9.29</td>\n",
       "    </tr>\n",
       "    <tr>\n",
       "      <td>1</td>\n",
       "      <td>2015-01-27 13:08:24.000000300</td>\n",
       "      <td>9.50</td>\n",
       "    </tr>\n",
       "    <tr>\n",
       "      <td>2</td>\n",
       "      <td>2011-10-08 11:53:44.000000200</td>\n",
       "      <td>5.51</td>\n",
       "    </tr>\n",
       "    <tr>\n",
       "      <td>3</td>\n",
       "      <td>2012-12-01 21:12:12.000000200</td>\n",
       "      <td>8.33</td>\n",
       "    </tr>\n",
       "    <tr>\n",
       "      <td>4</td>\n",
       "      <td>2012-12-01 21:12:12.000000300</td>\n",
       "      <td>15.53</td>\n",
       "    </tr>\n",
       "    <tr>\n",
       "      <td>...</td>\n",
       "      <td>...</td>\n",
       "      <td>...</td>\n",
       "    </tr>\n",
       "    <tr>\n",
       "      <td>9909</td>\n",
       "      <td>2015-05-10 12:37:51.000000200</td>\n",
       "      <td>8.85</td>\n",
       "    </tr>\n",
       "    <tr>\n",
       "      <td>9910</td>\n",
       "      <td>2015-01-12 17:05:51.000000100</td>\n",
       "      <td>11.54</td>\n",
       "    </tr>\n",
       "    <tr>\n",
       "      <td>9911</td>\n",
       "      <td>2015-04-19 20:44:15.000000100</td>\n",
       "      <td>44.67</td>\n",
       "    </tr>\n",
       "    <tr>\n",
       "      <td>9912</td>\n",
       "      <td>2015-01-31 01:05:19.000000500</td>\n",
       "      <td>21.95</td>\n",
       "    </tr>\n",
       "    <tr>\n",
       "      <td>9913</td>\n",
       "      <td>2015-01-18 14:06:23.000000600</td>\n",
       "      <td>6.87</td>\n",
       "    </tr>\n",
       "  </tbody>\n",
       "</table>\n",
       "<p>9914 rows × 2 columns</p>\n",
       "</div>"
      ],
      "text/plain": [
       "                               key  fare_amount\n",
       "0    2015-01-27 13:08:24.000000200         9.29\n",
       "1    2015-01-27 13:08:24.000000300         9.50\n",
       "2    2011-10-08 11:53:44.000000200         5.51\n",
       "3    2012-12-01 21:12:12.000000200         8.33\n",
       "4    2012-12-01 21:12:12.000000300        15.53\n",
       "...                            ...          ...\n",
       "9909 2015-05-10 12:37:51.000000200         8.85\n",
       "9910 2015-01-12 17:05:51.000000100        11.54\n",
       "9911 2015-04-19 20:44:15.000000100        44.67\n",
       "9912 2015-01-31 01:05:19.000000500        21.95\n",
       "9913 2015-01-18 14:06:23.000000600         6.87\n",
       "\n",
       "[9914 rows x 2 columns]"
      ]
     },
     "execution_count": 260,
     "metadata": {},
     "output_type": "execute_result"
    }
   ],
   "source": [
    "submission"
   ]
  },
  {
   "cell_type": "code",
   "execution_count": 259,
   "metadata": {},
   "outputs": [
    {
     "name": "stdout",
     "output_type": "stream",
     "text": [
      "['GCP-Coupons-Instructions.rtf', 'sample_submission.csv', 'submission.csv', 'test.csv', 'train.csv']\n"
     ]
    }
   ],
   "source": [
    "import os\n",
    "print(os.listdir('Data'))"
   ]
  },
  {
   "cell_type": "code",
   "execution_count": null,
   "metadata": {},
   "outputs": [],
   "source": []
  }
 ],
 "metadata": {
  "kernelspec": {
   "display_name": "Python 3",
   "language": "python",
   "name": "python3"
  },
  "language_info": {
   "codemirror_mode": {
    "name": "ipython",
    "version": 3
   },
   "file_extension": ".py",
   "mimetype": "text/x-python",
   "name": "python",
   "nbconvert_exporter": "python",
   "pygments_lexer": "ipython3",
   "version": "3.7.4"
  }
 },
 "nbformat": 4,
 "nbformat_minor": 2
}
